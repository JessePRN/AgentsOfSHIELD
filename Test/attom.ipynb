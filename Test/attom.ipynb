{
 "cells": [
  {
   "cell_type": "code",
   "execution_count": 34,
   "id": "0a4f0c5c",
   "metadata": {
    "scrolled": true
   },
   "outputs": [
    {
     "name": "stdout",
     "output_type": "stream",
     "text": [
      "{\"Response\":{\"status\":{\"version\": \"1.0.0\",\"code\": \"401\",\"msg\": \"Unauthorized\",\"total\": \"0\",\"page\": \"0\",\"pagesize\": \"0\"}}}\n"
     ]
    }
   ],
   "source": [
    "import http.client \n",
    "import requests\n",
    "\n",
    "# from Keys.config import attomKey\n",
    "\n",
    "attomKey = '3db734ca41f00aa5ce673ca7c3f7ba9c'\n",
    "\n",
    "conn = http.client.HTTPSConnection(\"api.gateway.attomdata.com\") \n",
    "\n",
    "headers = { \n",
    "    'accept': \"application/json\", \n",
    "    'apikey': attomKey \n",
    "} \n",
    "\n",
    "conn.request(\"GET\", \"/propertyapi/v1.0.0/property/detail?address1=4529%20Winona%20Court&address2=Denver%2C%20CO\", headers=headers) \n",
    "\n",
    "res = conn.getresponse() \n",
    "data = res.read() \n",
    "\n",
    "print(data.decode(\"utf-8\"))"
   ]
  },
  {
   "cell_type": "code",
   "execution_count": 35,
   "id": "3e2955d1",
   "metadata": {},
   "outputs": [
    {
     "data": {
      "text/plain": [
       "'3db734ca41f00aa5ce673ca7c3f7ba9c'"
      ]
     },
     "execution_count": 35,
     "metadata": {},
     "output_type": "execute_result"
    }
   ],
   "source": [
    "attomKey"
   ]
  },
  {
   "cell_type": "code",
   "execution_count": null,
   "id": "a392ff06",
   "metadata": {},
   "outputs": [],
   "source": []
  },
  {
   "cell_type": "code",
   "execution_count": 37,
   "id": "3ee95e5e",
   "metadata": {},
   "outputs": [
    {
     "name": "stdout",
     "output_type": "stream",
     "text": [
      "{\"Response\":{\"status\":{\"version\": \"1.0.0\",\"code\": \"401\",\"msg\": \"Unauthorized\",\"total\": \"0\",\"page\": \"0\",\"pagesize\": \"0\"}}}\n"
     ]
    }
   ],
   "source": [
    "\n",
    "attomKey = '3db734ca41f00aa5ce673ca7c3f7ba9c'\n",
    "\n",
    "conn = http.client.HTTPSConnection(\"api.gateway.attomdata.com\") \n",
    "\n",
    "headers = { \n",
    "    'accept': \"application/json\", \n",
    "    'apikey': attomKey \n",
    "} \n",
    "\n",
    "conn.request(\"GET\", \"/propertyapi/v1.0.0/property/detail?address1=4529%20Winona%20Court&address2=Denver%2C%20CO\", headers=headers) \n",
    "\n",
    "res = conn.getresponse() \n",
    "data = res.read() \n",
    "\n",
    "print(data.decode(\"utf-8\"))\n",
    "\n"
   ]
  },
  {
   "cell_type": "code",
   "execution_count": null,
   "id": "ec7fa32b",
   "metadata": {},
   "outputs": [],
   "source": []
  },
  {
   "cell_type": "code",
   "execution_count": null,
   "id": "a242a962",
   "metadata": {},
   "outputs": [],
   "source": []
  }
 ],
 "metadata": {
  "kernelspec": {
   "display_name": "Python 3 (ipykernel)",
   "language": "python",
   "name": "python3"
  },
  "language_info": {
   "codemirror_mode": {
    "name": "ipython",
    "version": 3
   },
   "file_extension": ".py",
   "mimetype": "text/x-python",
   "name": "python",
   "nbconvert_exporter": "python",
   "pygments_lexer": "ipython3",
   "version": "3.9.7"
  }
 },
 "nbformat": 4,
 "nbformat_minor": 5
}
