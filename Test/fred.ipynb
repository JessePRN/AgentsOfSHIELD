{
 "cells": [
  {
   "cell_type": "code",
   "execution_count": 1,
   "id": "0a4f0c5c",
   "metadata": {
    "scrolled": true
   },
   "outputs": [
    {
     "name": "stdout",
     "output_type": "stream",
     "text": [
      "Collecting fredapi\n",
      "  Downloading fredapi-0.5.0-py3-none-any.whl (11 kB)\n",
      "Requirement already satisfied: pandas in /Users/jesse/opt/anaconda3/envs/PythonData/lib/python3.7/site-packages (from fredapi) (1.3.5)\n",
      "Requirement already satisfied: pytz>=2017.3 in /Users/jesse/opt/anaconda3/envs/PythonData/lib/python3.7/site-packages (from pandas->fredapi) (2022.1)\n",
      "Requirement already satisfied: python-dateutil>=2.7.3 in /Users/jesse/opt/anaconda3/envs/PythonData/lib/python3.7/site-packages (from pandas->fredapi) (2.8.2)\n",
      "Requirement already satisfied: numpy>=1.17.3 in /Users/jesse/opt/anaconda3/envs/PythonData/lib/python3.7/site-packages (from pandas->fredapi) (1.21.5)\n",
      "Requirement already satisfied: six>=1.5 in /Users/jesse/opt/anaconda3/envs/PythonData/lib/python3.7/site-packages (from python-dateutil>=2.7.3->pandas->fredapi) (1.16.0)\n",
      "Installing collected packages: fredapi\n",
      "Successfully installed fredapi-0.5.0\n"
     ]
    }
   ],
   "source": [
    "# one time fredapi install\n",
    "# !pip install fredapi"
   ]
  },
  {
   "cell_type": "code",
   "execution_count": null,
   "id": "a242a962",
   "metadata": {},
   "outputs": [],
   "source": [
    "import pandas as pd\n",
    "from fredapi import Fred\n",
    "import matplotlib.pylab as plt\n",
    "import plotly.express as px\n",
    "import seaborn as sns\n",
    "\n",
    "fred = Fred(api_key=fred_key)\n",
    "\n",
    "\n",
    "# plt.style.use(\"seaborn-whitegrid\")\n",
    "\n",
    "# pd.set_option(\"max_columns\", 500)\n",
    "# color_pal = plt.rcParams[\"axes.prop_cycle\"].by_key()[\"color\"]\n",
    "\n",
    "# plt.style.use('fivethirtyeight')\n",
    "\n",
    "# from itertools import cycle\n",
    "# color_cycle = cycle(plt.rcParams[\"axes.prop_cycle\"].by_key()[\"color\"])\n",
    "\n",
    "# from kaggle_secrets import UserSecretsClient\n",
    "# secrets = UserSecretsClient()\n",
    "\n",
    "# fred_key = secrets.get_secret('fred-api')"
   ]
  }
 ],
 "metadata": {
  "kernelspec": {
   "display_name": "Python 3 (ipykernel)",
   "language": "python",
   "name": "python3"
  },
  "language_info": {
   "codemirror_mode": {
    "name": "ipython",
    "version": 3
   },
   "file_extension": ".py",
   "mimetype": "text/x-python",
   "name": "python",
   "nbconvert_exporter": "python",
   "pygments_lexer": "ipython3",
   "version": "3.7.11"
  }
 },
 "nbformat": 4,
 "nbformat_minor": 5
}
