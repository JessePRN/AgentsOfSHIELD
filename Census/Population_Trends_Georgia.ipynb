{
 "cells": [
  {
   "cell_type": "code",
   "execution_count": 1,
   "id": "4d6dc62c",
   "metadata": {},
   "outputs": [],
   "source": [
    "# pip install dataframe_image"
   ]
  },
  {
   "cell_type": "code",
   "execution_count": 120,
   "id": "5860a951",
   "metadata": {},
   "outputs": [
    {
     "data": {
      "text/html": [
       "<div>\n",
       "<style scoped>\n",
       "    .dataframe tbody tr th:only-of-type {\n",
       "        vertical-align: middle;\n",
       "    }\n",
       "\n",
       "    .dataframe tbody tr th {\n",
       "        vertical-align: top;\n",
       "    }\n",
       "\n",
       "    .dataframe thead th {\n",
       "        text-align: right;\n",
       "    }\n",
       "</style>\n",
       "<table border=\"1\" class=\"dataframe\">\n",
       "  <thead>\n",
       "    <tr style=\"text-align: right;\">\n",
       "      <th></th>\n",
       "      <th>Unnamed: 0</th>\n",
       "      <th>Unnamed: 1</th>\n",
       "      <th>2020</th>\n",
       "      <th>2021</th>\n",
       "    </tr>\n",
       "  </thead>\n",
       "  <tbody>\n",
       "    <tr>\n",
       "      <th>0</th>\n",
       "      <td>Georgia</td>\n",
       "      <td>10,711,908</td>\n",
       "      <td>10,725,800</td>\n",
       "      <td>10,799,566</td>\n",
       "    </tr>\n",
       "    <tr>\n",
       "      <th>1</th>\n",
       "      <td>.Appling County, Georgia</td>\n",
       "      <td>18,444</td>\n",
       "      <td>18,428</td>\n",
       "      <td>18,488</td>\n",
       "    </tr>\n",
       "    <tr>\n",
       "      <th>2</th>\n",
       "      <td>.Atkinson County, Georgia</td>\n",
       "      <td>8,286</td>\n",
       "      <td>8,301</td>\n",
       "      <td>8,391</td>\n",
       "    </tr>\n",
       "    <tr>\n",
       "      <th>3</th>\n",
       "      <td>.Bacon County, Georgia</td>\n",
       "      <td>11,140</td>\n",
       "      <td>11,123</td>\n",
       "      <td>11,079</td>\n",
       "    </tr>\n",
       "    <tr>\n",
       "      <th>4</th>\n",
       "      <td>.Baker County, Georgia</td>\n",
       "      <td>2,876</td>\n",
       "      <td>2,844</td>\n",
       "      <td>2,819</td>\n",
       "    </tr>\n",
       "    <tr>\n",
       "      <th>...</th>\n",
       "      <td>...</td>\n",
       "      <td>...</td>\n",
       "      <td>...</td>\n",
       "      <td>...</td>\n",
       "    </tr>\n",
       "    <tr>\n",
       "      <th>155</th>\n",
       "      <td>.Whitfield County, Georgia</td>\n",
       "      <td>102,864</td>\n",
       "      <td>102,727</td>\n",
       "      <td>102,848</td>\n",
       "    </tr>\n",
       "    <tr>\n",
       "      <th>156</th>\n",
       "      <td>.Wilcox County, Georgia</td>\n",
       "      <td>8,766</td>\n",
       "      <td>8,731</td>\n",
       "      <td>8,739</td>\n",
       "    </tr>\n",
       "    <tr>\n",
       "      <th>157</th>\n",
       "      <td>.Wilkes County, Georgia</td>\n",
       "      <td>9,565</td>\n",
       "      <td>9,556</td>\n",
       "      <td>9,513</td>\n",
       "    </tr>\n",
       "    <tr>\n",
       "      <th>158</th>\n",
       "      <td>.Wilkinson County, Georgia</td>\n",
       "      <td>8,877</td>\n",
       "      <td>8,844</td>\n",
       "      <td>8,831</td>\n",
       "    </tr>\n",
       "    <tr>\n",
       "      <th>159</th>\n",
       "      <td>.Worth County, Georgia</td>\n",
       "      <td>20,784</td>\n",
       "      <td>20,719</td>\n",
       "      <td>20,554</td>\n",
       "    </tr>\n",
       "  </tbody>\n",
       "</table>\n",
       "<p>160 rows × 4 columns</p>\n",
       "</div>"
      ],
      "text/plain": [
       "                     Unnamed: 0  Unnamed: 1        2020        2021\n",
       "0                       Georgia  10,711,908  10,725,800  10,799,566\n",
       "1      .Appling County, Georgia      18,444      18,428      18,488\n",
       "2     .Atkinson County, Georgia       8,286       8,301       8,391\n",
       "3        .Bacon County, Georgia      11,140      11,123      11,079\n",
       "4        .Baker County, Georgia       2,876       2,844       2,819\n",
       "..                          ...         ...         ...         ...\n",
       "155  .Whitfield County, Georgia     102,864     102,727     102,848\n",
       "156     .Wilcox County, Georgia       8,766       8,731       8,739\n",
       "157     .Wilkes County, Georgia       9,565       9,556       9,513\n",
       "158  .Wilkinson County, Georgia       8,877       8,844       8,831\n",
       "159      .Worth County, Georgia      20,784      20,719      20,554\n",
       "\n",
       "[160 rows x 4 columns]"
      ]
     },
     "execution_count": 120,
     "metadata": {},
     "output_type": "execute_result"
    }
   ],
   "source": [
    "# Dependencies\n",
    "import pandas as pd\n",
    "import random\n",
    "import matplotlib.pyplot as plt\n",
    "import numpy as np\n",
    "import math\n",
    "import dataframe_image as df\n",
    "from scipy.stats import linregress\n",
    "import scipy.stats as stats\n",
    "\n",
    "file_1 = \"co-est2021-pop-13.csv\"\n",
    "file_2 = \"co-est2020-alldata.csv\"\n",
    "\n",
    "file_1_df = pd.read_csv(file_1, delimiter=\",\", skiprows=3)\n",
    "\n",
    "file_1_df.tail(10)\n",
    "recent_census =file_1_df.drop(range(160,165))\n",
    "recent_census\n"
   ]
  },
  {
   "cell_type": "code",
   "execution_count": 2,
   "id": "f502f9d6",
   "metadata": {
    "scrolled": false
   },
   "outputs": [
    {
     "name": "stderr",
     "output_type": "stream",
     "text": [
      "/Users/jesse/opt/anaconda3/envs/PythonData/lib/python3.7/site-packages/ipykernel_launcher.py:2: FutureWarning: The default value of regex will change from True to False in a future version. In addition, single character regular expressions will *not* be treated as literal strings when regex=True.\n",
      "  \n"
     ]
    }
   ],
   "source": [
    "#removing the '.' in front of the county names\n",
    "recent_census21 = recent_census['Unnamed: 0'].str.replace('.','')\n",
    "\n",
    "# removing 'Georgia' from the counties\n",
    "county21 = recent_census21.str.split(',').str[0]\n",
    "\n",
    "#print(county21)"
   ]
  },
  {
   "cell_type": "code",
   "execution_count": 3,
   "id": "37f62054",
   "metadata": {
    "scrolled": true
   },
   "outputs": [],
   "source": [
    "# extracting 2020 and 2021 columns\n",
    "data21 = recent_census[['2020','2021']]\n",
    "\n",
    "#convert object to int\n",
    "census_20 = pd.to_numeric(data21['2020'].str.replace(',',''), errors = 'coerce')\n",
    "\n",
    "#print(census_20)"
   ]
  },
  {
   "cell_type": "code",
   "execution_count": 4,
   "id": "0dd0657f",
   "metadata": {},
   "outputs": [],
   "source": [
    "#convert object to int\n",
    "census_21 = pd.to_numeric(recent_census['2021'].str.replace(',',''), errors = 'coerce')\n",
    "\n",
    "#print(census_21)"
   ]
  },
  {
   "cell_type": "code",
   "execution_count": 5,
   "id": "ff30c4b3",
   "metadata": {},
   "outputs": [],
   "source": [
    "# create a cleaned up dataframe\n",
    "organized_21 = pd.DataFrame({\"County\":county21,\"2020\":census_20, \"2021\":census_21 })\n",
    "\n",
    "#set index to county\n",
    "census21_df= organized_21.set_index(\"County\")\n",
    "\n",
    "#print(census21_df)"
   ]
  },
  {
   "cell_type": "code",
   "execution_count": 6,
   "id": "458a8a50",
   "metadata": {
    "scrolled": true
   },
   "outputs": [],
   "source": [
    "#read csv file\n",
    "file_2_df = pd.read_csv(file_2, delimiter=\",\", encoding=\"ISO-8859-1\")\n",
    "\n",
    "# extract Georgia's data from national data\n",
    "file_2_ga = file_2_df[file_2_df['STNAME'] == 'Georgia']\n",
    "file_2_ga.to_csv('cleanerCounties.csv')\n",
    "#print(file_2_ga)"
   ]
  },
  {
   "cell_type": "code",
   "execution_count": 7,
   "id": "6c15997e",
   "metadata": {
    "scrolled": true
   },
   "outputs": [],
   "source": [
    "#extract the population data of interest\n",
    "ga_census_estimate_population = file_2_ga[[\"CTYNAME\",\"POPESTIMATE2010\",\"POPESTIMATE2011\",\"POPESTIMATE2012\",\"POPESTIMATE2013\", \"POPESTIMATE2014\", \"POPESTIMATE2015\", \"POPESTIMATE2016\", \"POPESTIMATE2017\", \"POPESTIMATE2018\",\"POPESTIMATE2019\"]]\n",
    "\n",
    "#rename columns\n",
    "ga_census_estimate_population = ga_census_estimate_population.rename(columns={\"CTYNAME\":\"County\",\"POPESTIMATE2010\": \"2010\", \"POPESTIMATE2011\": \"2011\", \"POPESTIMATE2012\": \"2012\", \"POPESTIMATE2013\": \"2013\", \"POPESTIMATE2014\": \"2014\", \"POPESTIMATE2015\": \"2015\", \"POPESTIMATE2016\": \"2016\", \"POPESTIMATE2017\": \"2017\", \"POPESTIMATE2018\": \"2018\", \"POPESTIMATE2019\": \"2019\"})\n",
    "\n",
    "#set index to county\n",
    "ga_census_20 = ga_census_estimate_population.set_index(\"County\")\n",
    "\n",
    "#print(ga_census_20)"
   ]
  },
  {
   "cell_type": "code",
   "execution_count": 8,
   "id": "2846bd8e",
   "metadata": {},
   "outputs": [],
   "source": [
    "#merge csv files \n",
    "\n",
    "merge_census_raw = census21_df.merge(ga_census_20,how ='right', on ='County')\n",
    "\n",
    "#label column names\n",
    "column_names = [\"2010\",\"2011\",\"2012\",\"2013\",\"2014\",\"2015\",\"2016\",\"2017\",\"2018\",\"2019\",\"2020\",\"2021\"]\n",
    "\n",
    "#reindex\n",
    "\n",
    "merge_census = merge_census_raw.reindex(columns=column_names)\n",
    "\n",
    "#print(merge_census)"
   ]
  },
  {
   "cell_type": "code",
   "execution_count": 9,
   "id": "54b2929e",
   "metadata": {
    "scrolled": true
   },
   "outputs": [
    {
     "name": "stderr",
     "output_type": "stream",
     "text": [
      "objc[65830]: Class WebSwapCGLLayer is implemented in both /System/Library/Frameworks/WebKit.framework/Versions/A/Frameworks/WebCore.framework/Versions/A/Frameworks/libANGLE-shared.dylib (0x7ffa45bf6318) and /Applications/Google Chrome.app/Contents/Frameworks/Google Chrome Framework.framework/Versions/100.0.4896.127/Libraries/libGLESv2.dylib (0x110808f48). One of the two will be used. Which one is undefined.\n",
      "[0502/101717.248999:INFO:headless_shell.cc(659)] Written to file /var/folders/pr/1_6x41cj4bg9v9n2y7ppnzyc0000gn/T/tmpnnaqv0n0/temp.png.\n"
     ]
    },
    {
     "data": {
      "text/html": [
       "<div>\n",
       "<style scoped>\n",
       "    .dataframe tbody tr th:only-of-type {\n",
       "        vertical-align: middle;\n",
       "    }\n",
       "\n",
       "    .dataframe tbody tr th {\n",
       "        vertical-align: top;\n",
       "    }\n",
       "\n",
       "    .dataframe thead th {\n",
       "        text-align: right;\n",
       "    }\n",
       "</style>\n",
       "<table border=\"1\" class=\"dataframe\">\n",
       "  <thead>\n",
       "    <tr style=\"text-align: right;\">\n",
       "      <th></th>\n",
       "      <th>2010</th>\n",
       "      <th>2011</th>\n",
       "      <th>2012</th>\n",
       "      <th>2013</th>\n",
       "      <th>2014</th>\n",
       "      <th>2015</th>\n",
       "      <th>2016</th>\n",
       "      <th>2017</th>\n",
       "      <th>2018</th>\n",
       "      <th>2019</th>\n",
       "      <th>2020</th>\n",
       "      <th>2021</th>\n",
       "    </tr>\n",
       "    <tr>\n",
       "      <th>County</th>\n",
       "      <th></th>\n",
       "      <th></th>\n",
       "      <th></th>\n",
       "      <th></th>\n",
       "      <th></th>\n",
       "      <th></th>\n",
       "      <th></th>\n",
       "      <th></th>\n",
       "      <th></th>\n",
       "      <th></th>\n",
       "      <th></th>\n",
       "      <th></th>\n",
       "    </tr>\n",
       "  </thead>\n",
       "  <tbody>\n",
       "    <tr>\n",
       "      <th>Emanuel County</th>\n",
       "      <td>22602</td>\n",
       "      <td>22489</td>\n",
       "      <td>22727</td>\n",
       "      <td>22626</td>\n",
       "      <td>22476</td>\n",
       "      <td>22465</td>\n",
       "      <td>22405</td>\n",
       "      <td>22528</td>\n",
       "      <td>22582</td>\n",
       "      <td>22600</td>\n",
       "      <td>22730</td>\n",
       "      <td>22716</td>\n",
       "    </tr>\n",
       "    <tr>\n",
       "      <th>Jones County</th>\n",
       "      <td>28628</td>\n",
       "      <td>28724</td>\n",
       "      <td>28610</td>\n",
       "      <td>28563</td>\n",
       "      <td>28641</td>\n",
       "      <td>28432</td>\n",
       "      <td>28572</td>\n",
       "      <td>28459</td>\n",
       "      <td>28603</td>\n",
       "      <td>28689</td>\n",
       "      <td>28356</td>\n",
       "      <td>28400</td>\n",
       "    </tr>\n",
       "    <tr>\n",
       "      <th>Haralson County</th>\n",
       "      <td>28763</td>\n",
       "      <td>28474</td>\n",
       "      <td>28325</td>\n",
       "      <td>28357</td>\n",
       "      <td>28513</td>\n",
       "      <td>28733</td>\n",
       "      <td>28860</td>\n",
       "      <td>29286</td>\n",
       "      <td>29626</td>\n",
       "      <td>29884</td>\n",
       "      <td>29985</td>\n",
       "      <td>30572</td>\n",
       "    </tr>\n",
       "    <tr>\n",
       "      <th>Bartow County</th>\n",
       "      <td>100041</td>\n",
       "      <td>100110</td>\n",
       "      <td>100241</td>\n",
       "      <td>100923</td>\n",
       "      <td>101251</td>\n",
       "      <td>102063</td>\n",
       "      <td>103418</td>\n",
       "      <td>105190</td>\n",
       "      <td>106488</td>\n",
       "      <td>107757</td>\n",
       "      <td>109311</td>\n",
       "      <td>110843</td>\n",
       "    </tr>\n",
       "    <tr>\n",
       "      <th>Oconee County</th>\n",
       "      <td>32935</td>\n",
       "      <td>33269</td>\n",
       "      <td>33521</td>\n",
       "      <td>34084</td>\n",
       "      <td>35077</td>\n",
       "      <td>35861</td>\n",
       "      <td>36928</td>\n",
       "      <td>38122</td>\n",
       "      <td>39500</td>\n",
       "      <td>40296</td>\n",
       "      <td>42021</td>\n",
       "      <td>43023</td>\n",
       "    </tr>\n",
       "    <tr>\n",
       "      <th>Coffee County</th>\n",
       "      <td>42729</td>\n",
       "      <td>42998</td>\n",
       "      <td>43131</td>\n",
       "      <td>43084</td>\n",
       "      <td>42893</td>\n",
       "      <td>42998</td>\n",
       "      <td>42924</td>\n",
       "      <td>42871</td>\n",
       "      <td>43060</td>\n",
       "      <td>43278</td>\n",
       "      <td>43047</td>\n",
       "      <td>43386</td>\n",
       "    </tr>\n",
       "    <tr>\n",
       "      <th>Walton County</th>\n",
       "      <td>83997</td>\n",
       "      <td>84647</td>\n",
       "      <td>84998</td>\n",
       "      <td>86068</td>\n",
       "      <td>87557</td>\n",
       "      <td>88373</td>\n",
       "      <td>89886</td>\n",
       "      <td>91389</td>\n",
       "      <td>93450</td>\n",
       "      <td>94818</td>\n",
       "      <td>97135</td>\n",
       "      <td>99853</td>\n",
       "    </tr>\n",
       "    <tr>\n",
       "      <th>Wilkes County</th>\n",
       "      <td>10389</td>\n",
       "      <td>10230</td>\n",
       "      <td>10093</td>\n",
       "      <td>9931</td>\n",
       "      <td>9960</td>\n",
       "      <td>9927</td>\n",
       "      <td>9808</td>\n",
       "      <td>9868</td>\n",
       "      <td>9845</td>\n",
       "      <td>9769</td>\n",
       "      <td>9556</td>\n",
       "      <td>9513</td>\n",
       "    </tr>\n",
       "    <tr>\n",
       "      <th>Rabun County</th>\n",
       "      <td>16276</td>\n",
       "      <td>16257</td>\n",
       "      <td>16303</td>\n",
       "      <td>16184</td>\n",
       "      <td>16159</td>\n",
       "      <td>16224</td>\n",
       "      <td>16493</td>\n",
       "      <td>16560</td>\n",
       "      <td>16853</td>\n",
       "      <td>17116</td>\n",
       "      <td>16894</td>\n",
       "      <td>17119</td>\n",
       "    </tr>\n",
       "    <tr>\n",
       "      <th>Butts County</th>\n",
       "      <td>23776</td>\n",
       "      <td>23603</td>\n",
       "      <td>23431</td>\n",
       "      <td>23216</td>\n",
       "      <td>23337</td>\n",
       "      <td>23516</td>\n",
       "      <td>23738</td>\n",
       "      <td>24064</td>\n",
       "      <td>24172</td>\n",
       "      <td>24917</td>\n",
       "      <td>25542</td>\n",
       "      <td>25781</td>\n",
       "    </tr>\n",
       "  </tbody>\n",
       "</table>\n",
       "</div>"
      ],
      "text/plain": [
       "                   2010    2011    2012    2013    2014    2015    2016  \\\n",
       "County                                                                    \n",
       "Emanuel County    22602   22489   22727   22626   22476   22465   22405   \n",
       "Jones County      28628   28724   28610   28563   28641   28432   28572   \n",
       "Haralson County   28763   28474   28325   28357   28513   28733   28860   \n",
       "Bartow County    100041  100110  100241  100923  101251  102063  103418   \n",
       "Oconee County     32935   33269   33521   34084   35077   35861   36928   \n",
       "Coffee County     42729   42998   43131   43084   42893   42998   42924   \n",
       "Walton County     83997   84647   84998   86068   87557   88373   89886   \n",
       "Wilkes County     10389   10230   10093    9931    9960    9927    9808   \n",
       "Rabun County      16276   16257   16303   16184   16159   16224   16493   \n",
       "Butts County      23776   23603   23431   23216   23337   23516   23738   \n",
       "\n",
       "                   2017    2018    2019    2020    2021  \n",
       "County                                                   \n",
       "Emanuel County    22528   22582   22600   22730   22716  \n",
       "Jones County      28459   28603   28689   28356   28400  \n",
       "Haralson County   29286   29626   29884   29985   30572  \n",
       "Bartow County    105190  106488  107757  109311  110843  \n",
       "Oconee County     38122   39500   40296   42021   43023  \n",
       "Coffee County     42871   43060   43278   43047   43386  \n",
       "Walton County     91389   93450   94818   97135   99853  \n",
       "Wilkes County      9868    9845    9769    9556    9513  \n",
       "Rabun County      16560   16853   17116   16894   17119  \n",
       "Butts County      24064   24172   24917   25542   25781  "
      ]
     },
     "execution_count": 9,
     "metadata": {},
     "output_type": "execute_result"
    }
   ],
   "source": [
    "# select 10 random counties\n",
    "samples_df = merge_census.sample(10)\n",
    "\n",
    "#export randomly selected counties table\n",
    "samples_df.dfi.export('plots_tables/sample_counties.png')\n",
    "\n",
    "samples_df"
   ]
  },
  {
   "cell_type": "code",
   "execution_count": 10,
   "id": "8625451d",
   "metadata": {},
   "outputs": [
    {
     "data": {
      "text/html": [
       "<div>\n",
       "<style scoped>\n",
       "    .dataframe tbody tr th:only-of-type {\n",
       "        vertical-align: middle;\n",
       "    }\n",
       "\n",
       "    .dataframe tbody tr th {\n",
       "        vertical-align: top;\n",
       "    }\n",
       "\n",
       "    .dataframe thead th {\n",
       "        text-align: right;\n",
       "    }\n",
       "</style>\n",
       "<table border=\"1\" class=\"dataframe\">\n",
       "  <thead>\n",
       "    <tr style=\"text-align: right;\">\n",
       "      <th>County</th>\n",
       "      <th>Emanuel County</th>\n",
       "      <th>Jones County</th>\n",
       "      <th>Haralson County</th>\n",
       "      <th>Bartow County</th>\n",
       "      <th>Oconee County</th>\n",
       "      <th>Coffee County</th>\n",
       "      <th>Walton County</th>\n",
       "      <th>Wilkes County</th>\n",
       "      <th>Rabun County</th>\n",
       "      <th>Butts County</th>\n",
       "    </tr>\n",
       "  </thead>\n",
       "  <tbody>\n",
       "    <tr>\n",
       "      <th>2010</th>\n",
       "      <td>22602</td>\n",
       "      <td>28628</td>\n",
       "      <td>28763</td>\n",
       "      <td>100041</td>\n",
       "      <td>32935</td>\n",
       "      <td>42729</td>\n",
       "      <td>83997</td>\n",
       "      <td>10389</td>\n",
       "      <td>16276</td>\n",
       "      <td>23776</td>\n",
       "    </tr>\n",
       "    <tr>\n",
       "      <th>2011</th>\n",
       "      <td>22489</td>\n",
       "      <td>28724</td>\n",
       "      <td>28474</td>\n",
       "      <td>100110</td>\n",
       "      <td>33269</td>\n",
       "      <td>42998</td>\n",
       "      <td>84647</td>\n",
       "      <td>10230</td>\n",
       "      <td>16257</td>\n",
       "      <td>23603</td>\n",
       "    </tr>\n",
       "    <tr>\n",
       "      <th>2012</th>\n",
       "      <td>22727</td>\n",
       "      <td>28610</td>\n",
       "      <td>28325</td>\n",
       "      <td>100241</td>\n",
       "      <td>33521</td>\n",
       "      <td>43131</td>\n",
       "      <td>84998</td>\n",
       "      <td>10093</td>\n",
       "      <td>16303</td>\n",
       "      <td>23431</td>\n",
       "    </tr>\n",
       "    <tr>\n",
       "      <th>2013</th>\n",
       "      <td>22626</td>\n",
       "      <td>28563</td>\n",
       "      <td>28357</td>\n",
       "      <td>100923</td>\n",
       "      <td>34084</td>\n",
       "      <td>43084</td>\n",
       "      <td>86068</td>\n",
       "      <td>9931</td>\n",
       "      <td>16184</td>\n",
       "      <td>23216</td>\n",
       "    </tr>\n",
       "    <tr>\n",
       "      <th>2014</th>\n",
       "      <td>22476</td>\n",
       "      <td>28641</td>\n",
       "      <td>28513</td>\n",
       "      <td>101251</td>\n",
       "      <td>35077</td>\n",
       "      <td>42893</td>\n",
       "      <td>87557</td>\n",
       "      <td>9960</td>\n",
       "      <td>16159</td>\n",
       "      <td>23337</td>\n",
       "    </tr>\n",
       "    <tr>\n",
       "      <th>2015</th>\n",
       "      <td>22465</td>\n",
       "      <td>28432</td>\n",
       "      <td>28733</td>\n",
       "      <td>102063</td>\n",
       "      <td>35861</td>\n",
       "      <td>42998</td>\n",
       "      <td>88373</td>\n",
       "      <td>9927</td>\n",
       "      <td>16224</td>\n",
       "      <td>23516</td>\n",
       "    </tr>\n",
       "    <tr>\n",
       "      <th>2016</th>\n",
       "      <td>22405</td>\n",
       "      <td>28572</td>\n",
       "      <td>28860</td>\n",
       "      <td>103418</td>\n",
       "      <td>36928</td>\n",
       "      <td>42924</td>\n",
       "      <td>89886</td>\n",
       "      <td>9808</td>\n",
       "      <td>16493</td>\n",
       "      <td>23738</td>\n",
       "    </tr>\n",
       "    <tr>\n",
       "      <th>2017</th>\n",
       "      <td>22528</td>\n",
       "      <td>28459</td>\n",
       "      <td>29286</td>\n",
       "      <td>105190</td>\n",
       "      <td>38122</td>\n",
       "      <td>42871</td>\n",
       "      <td>91389</td>\n",
       "      <td>9868</td>\n",
       "      <td>16560</td>\n",
       "      <td>24064</td>\n",
       "    </tr>\n",
       "    <tr>\n",
       "      <th>2018</th>\n",
       "      <td>22582</td>\n",
       "      <td>28603</td>\n",
       "      <td>29626</td>\n",
       "      <td>106488</td>\n",
       "      <td>39500</td>\n",
       "      <td>43060</td>\n",
       "      <td>93450</td>\n",
       "      <td>9845</td>\n",
       "      <td>16853</td>\n",
       "      <td>24172</td>\n",
       "    </tr>\n",
       "    <tr>\n",
       "      <th>2019</th>\n",
       "      <td>22600</td>\n",
       "      <td>28689</td>\n",
       "      <td>29884</td>\n",
       "      <td>107757</td>\n",
       "      <td>40296</td>\n",
       "      <td>43278</td>\n",
       "      <td>94818</td>\n",
       "      <td>9769</td>\n",
       "      <td>17116</td>\n",
       "      <td>24917</td>\n",
       "    </tr>\n",
       "    <tr>\n",
       "      <th>2020</th>\n",
       "      <td>22730</td>\n",
       "      <td>28356</td>\n",
       "      <td>29985</td>\n",
       "      <td>109311</td>\n",
       "      <td>42021</td>\n",
       "      <td>43047</td>\n",
       "      <td>97135</td>\n",
       "      <td>9556</td>\n",
       "      <td>16894</td>\n",
       "      <td>25542</td>\n",
       "    </tr>\n",
       "    <tr>\n",
       "      <th>2021</th>\n",
       "      <td>22716</td>\n",
       "      <td>28400</td>\n",
       "      <td>30572</td>\n",
       "      <td>110843</td>\n",
       "      <td>43023</td>\n",
       "      <td>43386</td>\n",
       "      <td>99853</td>\n",
       "      <td>9513</td>\n",
       "      <td>17119</td>\n",
       "      <td>25781</td>\n",
       "    </tr>\n",
       "  </tbody>\n",
       "</table>\n",
       "</div>"
      ],
      "text/plain": [
       "County  Emanuel County  Jones County  Haralson County  Bartow County  \\\n",
       "2010             22602         28628            28763         100041   \n",
       "2011             22489         28724            28474         100110   \n",
       "2012             22727         28610            28325         100241   \n",
       "2013             22626         28563            28357         100923   \n",
       "2014             22476         28641            28513         101251   \n",
       "2015             22465         28432            28733         102063   \n",
       "2016             22405         28572            28860         103418   \n",
       "2017             22528         28459            29286         105190   \n",
       "2018             22582         28603            29626         106488   \n",
       "2019             22600         28689            29884         107757   \n",
       "2020             22730         28356            29985         109311   \n",
       "2021             22716         28400            30572         110843   \n",
       "\n",
       "County  Oconee County  Coffee County  Walton County  Wilkes County  \\\n",
       "2010            32935          42729          83997          10389   \n",
       "2011            33269          42998          84647          10230   \n",
       "2012            33521          43131          84998          10093   \n",
       "2013            34084          43084          86068           9931   \n",
       "2014            35077          42893          87557           9960   \n",
       "2015            35861          42998          88373           9927   \n",
       "2016            36928          42924          89886           9808   \n",
       "2017            38122          42871          91389           9868   \n",
       "2018            39500          43060          93450           9845   \n",
       "2019            40296          43278          94818           9769   \n",
       "2020            42021          43047          97135           9556   \n",
       "2021            43023          43386          99853           9513   \n",
       "\n",
       "County  Rabun County  Butts County  \n",
       "2010           16276         23776  \n",
       "2011           16257         23603  \n",
       "2012           16303         23431  \n",
       "2013           16184         23216  \n",
       "2014           16159         23337  \n",
       "2015           16224         23516  \n",
       "2016           16493         23738  \n",
       "2017           16560         24064  \n",
       "2018           16853         24172  \n",
       "2019           17116         24917  \n",
       "2020           16894         25542  \n",
       "2021           17119         25781  "
      ]
     },
     "execution_count": 10,
     "metadata": {},
     "output_type": "execute_result"
    }
   ],
   "source": [
    "#Transpose index and column\n",
    "samples_df.T"
   ]
  },
  {
   "cell_type": "code",
   "execution_count": 11,
   "id": "f40bc041",
   "metadata": {},
   "outputs": [
    {
     "name": "stderr",
     "output_type": "stream",
     "text": [
      "objc[65847]: Class WebSwapCGLLayer is implemented in both /System/Library/Frameworks/WebKit.framework/Versions/A/Frameworks/WebCore.framework/Versions/A/Frameworks/libANGLE-shared.dylib (0x7ffa45bf6318) and /Applications/Google Chrome.app/Contents/Frameworks/Google Chrome Framework.framework/Versions/100.0.4896.127/Libraries/libGLESv2.dylib (0x112902f48). One of the two will be used. Which one is undefined.\n",
      "[0502/101719.736419:INFO:headless_shell.cc(659)] Written to file /var/folders/pr/1_6x41cj4bg9v9n2y7ppnzyc0000gn/T/tmpf382sobf/temp.png.\n"
     ]
    },
    {
     "data": {
      "text/html": [
       "<div>\n",
       "<style scoped>\n",
       "    .dataframe tbody tr th:only-of-type {\n",
       "        vertical-align: middle;\n",
       "    }\n",
       "\n",
       "    .dataframe tbody tr th {\n",
       "        vertical-align: top;\n",
       "    }\n",
       "\n",
       "    .dataframe thead th {\n",
       "        text-align: right;\n",
       "    }\n",
       "</style>\n",
       "<table border=\"1\" class=\"dataframe\">\n",
       "  <thead>\n",
       "    <tr style=\"text-align: right;\">\n",
       "      <th></th>\n",
       "      <th>2019</th>\n",
       "      <th>2020</th>\n",
       "      <th>2021</th>\n",
       "    </tr>\n",
       "  </thead>\n",
       "  <tbody>\n",
       "    <tr>\n",
       "      <th>count</th>\n",
       "      <td>10.000000</td>\n",
       "      <td>10.000000</td>\n",
       "      <td>10.000000</td>\n",
       "    </tr>\n",
       "    <tr>\n",
       "      <th>mean</th>\n",
       "      <td>41912.400000</td>\n",
       "      <td>42457.700000</td>\n",
       "      <td>42457.700000</td>\n",
       "    </tr>\n",
       "    <tr>\n",
       "      <th>std</th>\n",
       "      <td>32945.079245</td>\n",
       "      <td>33706.713311</td>\n",
       "      <td>33706.713311</td>\n",
       "    </tr>\n",
       "    <tr>\n",
       "      <th>min</th>\n",
       "      <td>9769.000000</td>\n",
       "      <td>9556.000000</td>\n",
       "      <td>9556.000000</td>\n",
       "    </tr>\n",
       "    <tr>\n",
       "      <th>25%</th>\n",
       "      <td>23179.250000</td>\n",
       "      <td>23433.000000</td>\n",
       "      <td>23433.000000</td>\n",
       "    </tr>\n",
       "    <tr>\n",
       "      <th>50%</th>\n",
       "      <td>29286.500000</td>\n",
       "      <td>29170.500000</td>\n",
       "      <td>29170.500000</td>\n",
       "    </tr>\n",
       "    <tr>\n",
       "      <th>75%</th>\n",
       "      <td>42532.500000</td>\n",
       "      <td>42790.500000</td>\n",
       "      <td>42790.500000</td>\n",
       "    </tr>\n",
       "    <tr>\n",
       "      <th>max</th>\n",
       "      <td>107757.000000</td>\n",
       "      <td>109311.000000</td>\n",
       "      <td>109311.000000</td>\n",
       "    </tr>\n",
       "  </tbody>\n",
       "</table>\n",
       "</div>"
      ],
      "text/plain": [
       "                2019           2020           2021\n",
       "count      10.000000      10.000000      10.000000\n",
       "mean    41912.400000   42457.700000   42457.700000\n",
       "std     32945.079245   33706.713311   33706.713311\n",
       "min      9769.000000    9556.000000    9556.000000\n",
       "25%     23179.250000   23433.000000   23433.000000\n",
       "50%     29286.500000   29170.500000   29170.500000\n",
       "75%     42532.500000   42790.500000   42790.500000\n",
       "max    107757.000000  109311.000000  109311.000000"
      ]
     },
     "execution_count": 11,
     "metadata": {},
     "output_type": "execute_result"
    }
   ],
   "source": [
    "#collect statistics for 19, 20, 21\n",
    "sample_19= samples_df['2019'].describe()\n",
    "sample_20 = samples_df['2020'].describe()\n",
    "sample_21 = samples_df['2020'].describe()\n",
    "\n",
    "#create new df\n",
    "sample_stat = pd.DataFrame({'2019': sample_19, '2020': sample_20, '2021': sample_21})\n",
    "\n",
    "#export\n",
    "sample_stat.dfi.export('plots_tables/sample_stat.png')\n",
    "\n",
    "sample_stat\n"
   ]
  },
  {
   "cell_type": "code",
   "execution_count": 12,
   "id": "1f0162b8",
   "metadata": {},
   "outputs": [
    {
     "name": "stdout",
     "output_type": "stream",
     "text": [
      "--------------------\n",
      "The lower quartile of 2019 is: 23179.25\n",
      "The upper quartile of 2019 is: 42532.5\n",
      "The interquartile range of 2019 is: 19353.25\n",
      "Values below -5850.625 could be 2019 outliers.\n",
      "Values above 71562.375 could be 2019 outliers.\n",
      "--------------------\n",
      "--------------------\n",
      "The lower quartile of 2020 is: 23433.0\n",
      "The upper quartile of 2020 is: 42790.5\n",
      "The interquartile range of 2020 is: 19357.5\n",
      "Values below -5603.25 could be 2020 outliers.\n",
      "Values above 71826.75 could be 2020 outliers.\n",
      "--------------------\n",
      "--------------------\n",
      "The lower quartile of 2021 is: 23482.25\n",
      "The upper quartile of 2021 is: 43295.25\n",
      "The interquartile range of 2021 is: 19813.0\n",
      "Values below -6237.25 could be 2021 outliers.\n",
      "Values above 73014.75 could be 2021 outliers.\n",
      "--------------------\n"
     ]
    }
   ],
   "source": [
    "# create list of years of interest to loop over \n",
    "years =['2019', '2020', '2021']\n",
    "\n",
    "#empty list\n",
    "stat_years =[]\n",
    "\n",
    "# for loop\n",
    "for each in years:\n",
    "\n",
    "    samples_df_data = samples_df[each]\n",
    "    \n",
    "    stat_years.append(samples_df_data)\n",
    "        \n",
    "# zip into dictionary\n",
    "year_zip = dict(zip(years, stat_years))\n",
    "\n",
    "#Calculate the IQR and quantitatively determine if there are any potential outliers.\n",
    "# Determine outliers using upper and lower bounds\n",
    "\n",
    "for each in year_zip:\n",
    "    quartiles = year_zip[each].quantile([.25,.5,.75])\n",
    "    lowerq = quartiles[0.25]\n",
    "    upperq = quartiles[0.75]\n",
    "    iqr = upperq-lowerq\n",
    "    lower_bound = lowerq - (1.5*iqr)\n",
    "    upper_bound = upperq + (1.5*iqr)\n",
    "\n",
    "    print(\"--------------------\")\n",
    "    print(f\"The lower quartile of {each} is: {lowerq}\")\n",
    "    print(f\"The upper quartile of {each} is: {upperq}\")\n",
    "    print(f\"The interquartile range of {each} is: {iqr}\")\n",
    "    print(f\"Values below {lower_bound} could be {each} outliers.\")\n",
    "    print(f\"Values above {upper_bound} could be {each} outliers.\")\n",
    "    print(\"--------------------\")"
   ]
  },
  {
   "cell_type": "code",
   "execution_count": 13,
   "id": "ac4e7d21",
   "metadata": {},
   "outputs": [
    {
     "data": {
      "image/png": "[encoded data removed]",
      "text/plain": [
       "<Figure size 432x288 with 1 Axes>"
      ]
     },
     "metadata": {
      "needs_background": "light"
     },
     "output_type": "display_data"
    }
   ],
   "source": [
    "plt.boxplot(stat_years)    \n",
    "plt.xlabel(\"Years\")\n",
    "plt.xticks([1,2,3], years)\n",
    "plt.ylabel(\"Population\")\n",
    "plt.title(\"Pre-Covid vs Post Covid\")\n",
    "plt.savefig('plots_tables/precovidpostcovid.png')\n",
    "plt.show()"
   ]
  },
  {
   "cell_type": "code",
   "execution_count": 14,
   "id": "77f27f19",
   "metadata": {},
   "outputs": [
    {
     "name": "stderr",
     "output_type": "stream",
     "text": [
      "objc[65858]: Class WebSwapCGLLayer is implemented in both /System/Library/Frameworks/WebKit.framework/Versions/A/Frameworks/WebCore.framework/Versions/A/Frameworks/libANGLE-shared.dylib (0x7ffa45bf6318) and /Applications/Google Chrome.app/Contents/Frameworks/Google Chrome Framework.framework/Versions/100.0.4896.127/Libraries/libGLESv2.dylib (0x112beef48). One of the two will be used. Which one is undefined.\n",
      "[0502/101723.559637:INFO:headless_shell.cc(659)] Written to file /var/folders/pr/1_6x41cj4bg9v9n2y7ppnzyc0000gn/T/tmp_6clxkxz/temp.png.\n"
     ]
    },
    {
     "data": {
      "text/html": [
       "<div>\n",
       "<style scoped>\n",
       "    .dataframe tbody tr th:only-of-type {\n",
       "        vertical-align: middle;\n",
       "    }\n",
       "\n",
       "    .dataframe tbody tr th {\n",
       "        vertical-align: top;\n",
       "    }\n",
       "\n",
       "    .dataframe thead th {\n",
       "        text-align: right;\n",
       "    }\n",
       "</style>\n",
       "<table border=\"1\" class=\"dataframe\">\n",
       "  <thead>\n",
       "    <tr style=\"text-align: right;\">\n",
       "      <th></th>\n",
       "      <th>2011</th>\n",
       "      <th>2012</th>\n",
       "      <th>2013</th>\n",
       "      <th>2014</th>\n",
       "      <th>2015</th>\n",
       "      <th>2016</th>\n",
       "      <th>2017</th>\n",
       "      <th>2018</th>\n",
       "      <th>2019</th>\n",
       "      <th>2020</th>\n",
       "      <th>2021</th>\n",
       "    </tr>\n",
       "    <tr>\n",
       "      <th>County</th>\n",
       "      <th></th>\n",
       "      <th></th>\n",
       "      <th></th>\n",
       "      <th></th>\n",
       "      <th></th>\n",
       "      <th></th>\n",
       "      <th></th>\n",
       "      <th></th>\n",
       "      <th></th>\n",
       "      <th></th>\n",
       "      <th></th>\n",
       "    </tr>\n",
       "  </thead>\n",
       "  <tbody>\n",
       "    <tr>\n",
       "      <th>Emanuel County</th>\n",
       "      <td>-0.499956</td>\n",
       "      <td>1.058295</td>\n",
       "      <td>-0.444405</td>\n",
       "      <td>-0.662954</td>\n",
       "      <td>-0.048941</td>\n",
       "      <td>-0.267082</td>\n",
       "      <td>0.548985</td>\n",
       "      <td>0.239702</td>\n",
       "      <td>0.079710</td>\n",
       "      <td>0.575221</td>\n",
       "      <td>-0.061593</td>\n",
       "    </tr>\n",
       "    <tr>\n",
       "      <th>Jones County</th>\n",
       "      <td>0.335336</td>\n",
       "      <td>-0.396881</td>\n",
       "      <td>-0.164278</td>\n",
       "      <td>0.273081</td>\n",
       "      <td>-0.729723</td>\n",
       "      <td>0.492403</td>\n",
       "      <td>-0.395492</td>\n",
       "      <td>0.505991</td>\n",
       "      <td>0.300668</td>\n",
       "      <td>-1.160724</td>\n",
       "      <td>0.155170</td>\n",
       "    </tr>\n",
       "    <tr>\n",
       "      <th>Haralson County</th>\n",
       "      <td>-1.004763</td>\n",
       "      <td>-0.523284</td>\n",
       "      <td>0.112974</td>\n",
       "      <td>0.550129</td>\n",
       "      <td>0.771578</td>\n",
       "      <td>0.442000</td>\n",
       "      <td>1.476091</td>\n",
       "      <td>1.160964</td>\n",
       "      <td>0.870857</td>\n",
       "      <td>0.337973</td>\n",
       "      <td>1.957645</td>\n",
       "    </tr>\n",
       "    <tr>\n",
       "      <th>Bartow County</th>\n",
       "      <td>0.068972</td>\n",
       "      <td>0.130856</td>\n",
       "      <td>0.680360</td>\n",
       "      <td>0.325000</td>\n",
       "      <td>0.801967</td>\n",
       "      <td>1.327611</td>\n",
       "      <td>1.713435</td>\n",
       "      <td>1.233958</td>\n",
       "      <td>1.191684</td>\n",
       "      <td>1.442134</td>\n",
       "      <td>1.401506</td>\n",
       "    </tr>\n",
       "    <tr>\n",
       "      <th>Oconee County</th>\n",
       "      <td>1.014119</td>\n",
       "      <td>0.757462</td>\n",
       "      <td>1.679544</td>\n",
       "      <td>2.913390</td>\n",
       "      <td>2.235083</td>\n",
       "      <td>2.975377</td>\n",
       "      <td>3.233319</td>\n",
       "      <td>3.614711</td>\n",
       "      <td>2.015190</td>\n",
       "      <td>4.280822</td>\n",
       "      <td>2.384522</td>\n",
       "    </tr>\n",
       "    <tr>\n",
       "      <th>Coffee County</th>\n",
       "      <td>0.629549</td>\n",
       "      <td>0.309317</td>\n",
       "      <td>-0.108970</td>\n",
       "      <td>-0.443320</td>\n",
       "      <td>0.244795</td>\n",
       "      <td>-0.172101</td>\n",
       "      <td>-0.123474</td>\n",
       "      <td>0.440857</td>\n",
       "      <td>0.506270</td>\n",
       "      <td>-0.533758</td>\n",
       "      <td>0.787511</td>\n",
       "    </tr>\n",
       "    <tr>\n",
       "      <th>Walton County</th>\n",
       "      <td>0.773837</td>\n",
       "      <td>0.414663</td>\n",
       "      <td>1.258853</td>\n",
       "      <td>1.730027</td>\n",
       "      <td>0.931964</td>\n",
       "      <td>1.712061</td>\n",
       "      <td>1.672118</td>\n",
       "      <td>2.255195</td>\n",
       "      <td>1.463884</td>\n",
       "      <td>2.443629</td>\n",
       "      <td>2.798167</td>\n",
       "    </tr>\n",
       "    <tr>\n",
       "      <th>Wilkes County</th>\n",
       "      <td>-1.530465</td>\n",
       "      <td>-1.339198</td>\n",
       "      <td>-1.605073</td>\n",
       "      <td>0.292015</td>\n",
       "      <td>-0.331325</td>\n",
       "      <td>-1.198751</td>\n",
       "      <td>0.611746</td>\n",
       "      <td>-0.233077</td>\n",
       "      <td>-0.771965</td>\n",
       "      <td>-2.180366</td>\n",
       "      <td>-0.449979</td>\n",
       "    </tr>\n",
       "    <tr>\n",
       "      <th>Rabun County</th>\n",
       "      <td>-0.116736</td>\n",
       "      <td>0.282955</td>\n",
       "      <td>-0.729927</td>\n",
       "      <td>-0.154474</td>\n",
       "      <td>0.402253</td>\n",
       "      <td>1.658037</td>\n",
       "      <td>0.406233</td>\n",
       "      <td>1.769324</td>\n",
       "      <td>1.560553</td>\n",
       "      <td>-1.297032</td>\n",
       "      <td>1.331834</td>\n",
       "    </tr>\n",
       "    <tr>\n",
       "      <th>Butts County</th>\n",
       "      <td>-0.727624</td>\n",
       "      <td>-0.728721</td>\n",
       "      <td>-0.917588</td>\n",
       "      <td>0.521192</td>\n",
       "      <td>0.767022</td>\n",
       "      <td>0.944038</td>\n",
       "      <td>1.373325</td>\n",
       "      <td>0.448803</td>\n",
       "      <td>3.082078</td>\n",
       "      <td>2.508328</td>\n",
       "      <td>0.935714</td>\n",
       "    </tr>\n",
       "  </tbody>\n",
       "</table>\n",
       "</div>"
      ],
      "text/plain": [
       "                     2011      2012      2013      2014      2015      2016  \\\n",
       "County                                                                        \n",
       "Emanuel County  -0.499956  1.058295 -0.444405 -0.662954 -0.048941 -0.267082   \n",
       "Jones County     0.335336 -0.396881 -0.164278  0.273081 -0.729723  0.492403   \n",
       "Haralson County -1.004763 -0.523284  0.112974  0.550129  0.771578  0.442000   \n",
       "Bartow County    0.068972  0.130856  0.680360  0.325000  0.801967  1.327611   \n",
       "Oconee County    1.014119  0.757462  1.679544  2.913390  2.235083  2.975377   \n",
       "Coffee County    0.629549  0.309317 -0.108970 -0.443320  0.244795 -0.172101   \n",
       "Walton County    0.773837  0.414663  1.258853  1.730027  0.931964  1.712061   \n",
       "Wilkes County   -1.530465 -1.339198 -1.605073  0.292015 -0.331325 -1.198751   \n",
       "Rabun County    -0.116736  0.282955 -0.729927 -0.154474  0.402253  1.658037   \n",
       "Butts County    -0.727624 -0.728721 -0.917588  0.521192  0.767022  0.944038   \n",
       "\n",
       "                     2017      2018      2019      2020      2021  \n",
       "County                                                             \n",
       "Emanuel County   0.548985  0.239702  0.079710  0.575221 -0.061593  \n",
       "Jones County    -0.395492  0.505991  0.300668 -1.160724  0.155170  \n",
       "Haralson County  1.476091  1.160964  0.870857  0.337973  1.957645  \n",
       "Bartow County    1.713435  1.233958  1.191684  1.442134  1.401506  \n",
       "Oconee County    3.233319  3.614711  2.015190  4.280822  2.384522  \n",
       "Coffee County   -0.123474  0.440857  0.506270 -0.533758  0.787511  \n",
       "Walton County    1.672118  2.255195  1.463884  2.443629  2.798167  \n",
       "Wilkes County    0.611746 -0.233077 -0.771965 -2.180366 -0.449979  \n",
       "Rabun County     0.406233  1.769324  1.560553 -1.297032  1.331834  \n",
       "Butts County     1.373325  0.448803  3.082078  2.508328  0.935714  "
      ]
     },
     "execution_count": 14,
     "metadata": {},
     "output_type": "execute_result"
    }
   ],
   "source": [
    "# year to year percent change\n",
    "samp_change = samples_df.pct_change(axis= 'columns', periods =1)\n",
    "\n",
    "#dropping 2010 \n",
    "clean_samp_change = samp_change.drop(columns= ['2010'])\n",
    "# multiply by 100 for percent\n",
    "per_samp_change= clean_samp_change*100\n",
    "\n",
    "#export percent change table\n",
    "per_samp_change.dfi.export('plots_tables/per_samp_change.png')\n",
    "\n",
    "per_samp_change"
   ]
  },
  {
   "cell_type": "code",
   "execution_count": 15,
   "id": "54ba585c",
   "metadata": {
    "scrolled": true
   },
   "outputs": [
    {
     "data": {
      "text/html": [
       "<div>\n",
       "<style scoped>\n",
       "    .dataframe tbody tr th:only-of-type {\n",
       "        vertical-align: middle;\n",
       "    }\n",
       "\n",
       "    .dataframe tbody tr th {\n",
       "        vertical-align: top;\n",
       "    }\n",
       "\n",
       "    .dataframe thead th {\n",
       "        text-align: right;\n",
       "    }\n",
       "</style>\n",
       "<table border=\"1\" class=\"dataframe\">\n",
       "  <thead>\n",
       "    <tr style=\"text-align: right;\">\n",
       "      <th></th>\n",
       "      <th>2019</th>\n",
       "      <th>2020</th>\n",
       "      <th>2021</th>\n",
       "    </tr>\n",
       "  </thead>\n",
       "  <tbody>\n",
       "    <tr>\n",
       "      <th>count</th>\n",
       "      <td>10.000000</td>\n",
       "      <td>10.000000</td>\n",
       "      <td>10.000000</td>\n",
       "    </tr>\n",
       "    <tr>\n",
       "      <th>mean</th>\n",
       "      <td>1.029893</td>\n",
       "      <td>0.641623</td>\n",
       "      <td>1.029893</td>\n",
       "    </tr>\n",
       "    <tr>\n",
       "      <th>std</th>\n",
       "      <td>1.088280</td>\n",
       "      <td>2.029368</td>\n",
       "      <td>1.088280</td>\n",
       "    </tr>\n",
       "    <tr>\n",
       "      <th>min</th>\n",
       "      <td>-0.771965</td>\n",
       "      <td>-2.180366</td>\n",
       "      <td>-0.771965</td>\n",
       "    </tr>\n",
       "    <tr>\n",
       "      <th>25%</th>\n",
       "      <td>0.352068</td>\n",
       "      <td>-1.003982</td>\n",
       "      <td>0.352068</td>\n",
       "    </tr>\n",
       "    <tr>\n",
       "      <th>50%</th>\n",
       "      <td>1.031270</td>\n",
       "      <td>0.456597</td>\n",
       "      <td>1.031270</td>\n",
       "    </tr>\n",
       "    <tr>\n",
       "      <th>75%</th>\n",
       "      <td>1.536386</td>\n",
       "      <td>2.193255</td>\n",
       "      <td>1.536386</td>\n",
       "    </tr>\n",
       "    <tr>\n",
       "      <th>max</th>\n",
       "      <td>3.082078</td>\n",
       "      <td>4.280822</td>\n",
       "      <td>3.082078</td>\n",
       "    </tr>\n",
       "  </tbody>\n",
       "</table>\n",
       "</div>"
      ],
      "text/plain": [
       "            2019       2020       2021\n",
       "count  10.000000  10.000000  10.000000\n",
       "mean    1.029893   0.641623   1.029893\n",
       "std     1.088280   2.029368   1.088280\n",
       "min    -0.771965  -2.180366  -0.771965\n",
       "25%     0.352068  -1.003982   0.352068\n",
       "50%     1.031270   0.456597   1.031270\n",
       "75%     1.536386   2.193255   1.536386\n",
       "max     3.082078   4.280822   3.082078"
      ]
     },
     "execution_count": 15,
     "metadata": {},
     "output_type": "execute_result"
    }
   ],
   "source": [
    "#collect statistics for 19, 20, 21\n",
    "per_samp_19= per_samp_change['2019'].describe()\n",
    "per_samp_20= per_samp_change['2020'].describe()\n",
    "per_samp_21= per_samp_change['2021'].describe()\n",
    "\n",
    "#create new df\n",
    "per_samp_stat = pd.DataFrame({'2019': per_samp_19, '2020': per_samp_20, '2021': per_samp_19})\n",
    "\n",
    "per_samp_stat\n"
   ]
  },
  {
   "cell_type": "code",
   "execution_count": 16,
   "id": "dd305c4a",
   "metadata": {
    "scrolled": true
   },
   "outputs": [
    {
     "name": "stdout",
     "output_type": "stream",
     "text": [
      "--------------------\n",
      "The lower quartile of 2019 is: 0.35206840171290166\n",
      "The upper quartile of 2019 is: 1.5363858704943611\n",
      "The interquartile range of 2019 is: 1.1843174687814595\n",
      "Values below -1.4244078014592876 could be 2019 outliers.\n",
      "Values above 3.31286207366655 could be 2019 outliers.\n",
      "--------------------\n",
      "--------------------\n",
      "The lower quartile of 2020 is: -1.0039823396237852\n",
      "The upper quartile of 2020 is: 2.1932550575552323\n",
      "The interquartile range of 2020 is: 3.1972373971790176\n",
      "Values below -5.799838435392312 could be 2020 outliers.\n",
      "Values above 6.989111153323758 could be 2020 outliers.\n",
      "--------------------\n",
      "--------------------\n",
      "The lower quartile of 2021 is: 0.3132553174540531\n",
      "The upper quartile of 2021 is: 1.8186105659063145\n",
      "The interquartile range of 2021 is: 1.5053552484522614\n",
      "Values below -1.9447775552243391 could be 2021 outliers.\n",
      "Values above 4.076643438584707 could be 2021 outliers.\n",
      "--------------------\n"
     ]
    }
   ],
   "source": [
    "# create list of years of interest to loop over \n",
    "years =['2019', '2020', '2021']\n",
    "\n",
    "#empty list\n",
    "per_stat_years =[]\n",
    "\n",
    "# for loop\n",
    "for each in years:\n",
    "    per_samples_df_data = per_samp_change[each]\n",
    "    per_stat_years.append(per_samples_df_data)\n",
    "        \n",
    "# zip into dictionary\n",
    "per_year_zip = dict(zip(years, per_stat_years))\n",
    "\n",
    "#Calculate the IQR and quantitatively determine if there are any potential outliers.\n",
    "# Determine outliers using upper and lower bounds\n",
    "\n",
    "for each in year_zip:\n",
    "    quartiles = per_year_zip[each].quantile([.25,.5,.75])\n",
    "    lowerq = quartiles[0.25]\n",
    "    upperq = quartiles[0.75]\n",
    "    iqr = upperq-lowerq\n",
    "    lower_bound = lowerq - (1.5*iqr)\n",
    "    upper_bound = upperq + (1.5*iqr)\n",
    "\n",
    "    print(\"--------------------\")\n",
    "    print(f\"The lower quartile of {each} is: {lowerq}\")\n",
    "    print(f\"The upper quartile of {each} is: {upperq}\")\n",
    "    print(f\"The interquartile range of {each} is: {iqr}\")\n",
    "    print(f\"Values below {lower_bound} could be {each} outliers.\")\n",
    "    print(f\"Values above {upper_bound} could be {each} outliers.\")\n",
    "    print(\"--------------------\")"
   ]
  },
  {
   "cell_type": "code",
   "execution_count": 17,
   "id": "87d3e9b8",
   "metadata": {},
   "outputs": [
    {
     "data": {
      "image/png": "[encoded data removed]",
      "text/plain": [
       "<Figure size 432x288 with 1 Axes>"
      ]
     },
     "metadata": {
      "needs_background": "light"
     },
     "output_type": "display_data"
    }
   ],
   "source": [
    "plt.boxplot(per_stat_years)    \n",
    "plt.xlabel(\"Years\")\n",
    "plt.xticks([1,2,3], years)\n",
    "plt.ylabel(\"% Change\")\n",
    "plt.title(\"% Change Pre-Covid vs Post Covid\")\n",
    "plt.savefig('plots_tables/per_precovidpostcovid.png')\n",
    "plt.show()"
   ]
  },
  {
   "cell_type": "code",
   "execution_count": 18,
   "id": "77a1ebf4",
   "metadata": {},
   "outputs": [
    {
     "data": {
      "image/png": "[encoded data removed]",
      "text/plain": [
       "<Figure size 432x288 with 1 Axes>"
      ]
     },
     "metadata": {
      "needs_background": "light"
     },
     "output_type": "display_data"
    }
   ],
   "source": [
    "# plot sampled counties \n",
    "plt.plot(samples_df.T);\n",
    "plt.legend(samples_df.index,loc=\"lower left\")\n",
    "\n",
    "#labeling\n",
    "plt.title(\"Population Change\")\n",
    "plt.xlabel(\"Year\")\n",
    "plt.ylabel(\"Population Number\")\n",
    "\n",
    "#save figure \n",
    "plt.savefig('plots_tables/sample_counties_plot.png')\n",
    "plt.show()"
   ]
  },
  {
   "cell_type": "code",
   "execution_count": 19,
   "id": "1b558d95",
   "metadata": {},
   "outputs": [
    {
     "data": {
      "image/png": "[encoded data removed]",
      "text/plain": [
       "<Figure size 432x288 with 1 Axes>"
      ]
     },
     "metadata": {
      "needs_background": "light"
     },
     "output_type": "display_data"
    }
   ],
   "source": [
    "#plot sampled counties in log scale\n",
    "plt.plot(samples_df.T);\n",
    "plt.legend(samples_df.index,loc=\"lower left\")\n",
    "\n",
    "#labeling\n",
    "plt.title(\"Population Change in Log Scale\")\n",
    "plt.xlabel(\"Year\")\n",
    "plt.ylabel(\"Population Log Scale\")\n",
    "\n",
    "#set log scale\n",
    "plt.yscale('log')\n",
    "\n",
    "#save figure\n",
    "plt.savefig('plots_tables/sample_counties_plot_logscale.png')\n",
    "\n",
    "plt.show()\n"
   ]
  },
  {
   "cell_type": "code",
   "execution_count": 20,
   "id": "e97ef86e",
   "metadata": {},
   "outputs": [
    {
     "data": {
      "image/png": "[encoded data removed]",
      "text/plain": [
       "<Figure size 432x288 with 1 Axes>"
      ]
     },
     "metadata": {
      "needs_background": "light"
     },
     "output_type": "display_data"
    }
   ],
   "source": [
    "#plot percent change\n",
    "plt.plot(per_samp_change.T);\n",
    "plt.legend(per_samp_change.index,loc=\"lower left\")\n",
    "\n",
    "#labeling\n",
    "plt.title(\"Population % Change\")\n",
    "plt.xlabel(\"Year\")\n",
    "plt.ylabel(\"% change\")\n",
    "plt.savefig('plots_tables/per_samp_change_plot.png')\n",
    "plt.show()"
   ]
  },
  {
   "cell_type": "markdown",
   "id": "bd8e0280",
   "metadata": {},
   "source": [
    "The 10 counties are randomized when the kernal is restarted, but the counties that were selected are hard coded. These following counties are hard coded in reference to the initial merged dataframe."
   ]
  },
  {
   "cell_type": "code",
   "execution_count": 21,
   "id": "981f290d",
   "metadata": {
    "scrolled": true
   },
   "outputs": [
    {
     "data": {
      "text/html": [
       "<div>\n",
       "<style scoped>\n",
       "    .dataframe tbody tr th:only-of-type {\n",
       "        vertical-align: middle;\n",
       "    }\n",
       "\n",
       "    .dataframe tbody tr th {\n",
       "        vertical-align: top;\n",
       "    }\n",
       "\n",
       "    .dataframe thead th {\n",
       "        text-align: right;\n",
       "    }\n",
       "</style>\n",
       "<table border=\"1\" class=\"dataframe\">\n",
       "  <thead>\n",
       "    <tr style=\"text-align: right;\">\n",
       "      <th></th>\n",
       "      <th>2010</th>\n",
       "      <th>2011</th>\n",
       "      <th>2012</th>\n",
       "      <th>2013</th>\n",
       "      <th>2014</th>\n",
       "      <th>2015</th>\n",
       "      <th>2016</th>\n",
       "      <th>2017</th>\n",
       "      <th>2018</th>\n",
       "      <th>2019</th>\n",
       "      <th>2020</th>\n",
       "      <th>2021</th>\n",
       "    </tr>\n",
       "  </thead>\n",
       "  <tbody>\n",
       "    <tr>\n",
       "      <th>Paulding County</th>\n",
       "      <td>142826</td>\n",
       "      <td>143606</td>\n",
       "      <td>144750</td>\n",
       "      <td>146775</td>\n",
       "      <td>148562</td>\n",
       "      <td>151691</td>\n",
       "      <td>155415</td>\n",
       "      <td>159642</td>\n",
       "      <td>164482</td>\n",
       "      <td>169302</td>\n",
       "      <td>169660</td>\n",
       "      <td>173780</td>\n",
       "    </tr>\n",
       "    <tr>\n",
       "      <th>Worth County</th>\n",
       "      <td>21692</td>\n",
       "      <td>21516</td>\n",
       "      <td>21356</td>\n",
       "      <td>21058</td>\n",
       "      <td>21010</td>\n",
       "      <td>20692</td>\n",
       "      <td>20732</td>\n",
       "      <td>20532</td>\n",
       "      <td>20307</td>\n",
       "      <td>20185</td>\n",
       "      <td>20719</td>\n",
       "      <td>20554</td>\n",
       "    </tr>\n",
       "    <tr>\n",
       "      <th>Grady County</th>\n",
       "      <td>25027</td>\n",
       "      <td>25103</td>\n",
       "      <td>25283</td>\n",
       "      <td>25120</td>\n",
       "      <td>25236</td>\n",
       "      <td>25106</td>\n",
       "      <td>24895</td>\n",
       "      <td>24762</td>\n",
       "      <td>24730</td>\n",
       "      <td>24588</td>\n",
       "      <td>26221</td>\n",
       "      <td>25918</td>\n",
       "    </tr>\n",
       "    <tr>\n",
       "      <th>Laurens County</th>\n",
       "      <td>48388</td>\n",
       "      <td>47841</td>\n",
       "      <td>47819</td>\n",
       "      <td>47727</td>\n",
       "      <td>47553</td>\n",
       "      <td>47491</td>\n",
       "      <td>47287</td>\n",
       "      <td>47362</td>\n",
       "      <td>47293</td>\n",
       "      <td>47567</td>\n",
       "      <td>49497</td>\n",
       "      <td>49547</td>\n",
       "    </tr>\n",
       "    <tr>\n",
       "      <th>Barrow County</th>\n",
       "      <td>69670</td>\n",
       "      <td>69835</td>\n",
       "      <td>70128</td>\n",
       "      <td>71233</td>\n",
       "      <td>72843</td>\n",
       "      <td>74979</td>\n",
       "      <td>77108</td>\n",
       "      <td>79086</td>\n",
       "      <td>81105</td>\n",
       "      <td>83581</td>\n",
       "      <td>83963</td>\n",
       "      <td>86658</td>\n",
       "    </tr>\n",
       "    <tr>\n",
       "      <th>Newton County</th>\n",
       "      <td>100128</td>\n",
       "      <td>100446</td>\n",
       "      <td>100965</td>\n",
       "      <td>102060</td>\n",
       "      <td>103470</td>\n",
       "      <td>104920</td>\n",
       "      <td>106529</td>\n",
       "      <td>107903</td>\n",
       "      <td>109556</td>\n",
       "      <td>111894</td>\n",
       "      <td>112780</td>\n",
       "      <td>115355</td>\n",
       "    </tr>\n",
       "    <tr>\n",
       "      <th>Pike County</th>\n",
       "      <td>17929</td>\n",
       "      <td>17792</td>\n",
       "      <td>17780</td>\n",
       "      <td>17784</td>\n",
       "      <td>17774</td>\n",
       "      <td>17935</td>\n",
       "      <td>17916</td>\n",
       "      <td>18213</td>\n",
       "      <td>18622</td>\n",
       "      <td>18953</td>\n",
       "      <td>18935</td>\n",
       "      <td>19477</td>\n",
       "    </tr>\n",
       "    <tr>\n",
       "      <th>Chatham County</th>\n",
       "      <td>265799</td>\n",
       "      <td>271665</td>\n",
       "      <td>276243</td>\n",
       "      <td>277790</td>\n",
       "      <td>282396</td>\n",
       "      <td>286239</td>\n",
       "      <td>289055</td>\n",
       "      <td>289771</td>\n",
       "      <td>289771</td>\n",
       "      <td>290185</td>\n",
       "      <td>294904</td>\n",
       "      <td>296329</td>\n",
       "    </tr>\n",
       "    <tr>\n",
       "      <th>Fulton County</th>\n",
       "      <td>925622</td>\n",
       "      <td>947582</td>\n",
       "      <td>973464</td>\n",
       "      <td>981844</td>\n",
       "      <td>992321</td>\n",
       "      <td>1005752</td>\n",
       "      <td>1023816</td>\n",
       "      <td>1039996</td>\n",
       "      <td>1051516</td>\n",
       "      <td>1065019</td>\n",
       "      <td>1069023</td>\n",
       "      <td>1065334</td>\n",
       "    </tr>\n",
       "    <tr>\n",
       "      <th>Dodge County</th>\n",
       "      <td>21756</td>\n",
       "      <td>21606</td>\n",
       "      <td>21511</td>\n",
       "      <td>21424</td>\n",
       "      <td>21167</td>\n",
       "      <td>21133</td>\n",
       "      <td>20866</td>\n",
       "      <td>20777</td>\n",
       "      <td>20858</td>\n",
       "      <td>20672</td>\n",
       "      <td>19849</td>\n",
       "      <td>19759</td>\n",
       "    </tr>\n",
       "  </tbody>\n",
       "</table>\n",
       "</div>"
      ],
      "text/plain": [
       "                   2010    2011    2012    2013    2014     2015     2016  \\\n",
       "Paulding County  142826  143606  144750  146775  148562   151691   155415   \n",
       "Worth County      21692   21516   21356   21058   21010    20692    20732   \n",
       "Grady County      25027   25103   25283   25120   25236    25106    24895   \n",
       "Laurens County    48388   47841   47819   47727   47553    47491    47287   \n",
       "Barrow County     69670   69835   70128   71233   72843    74979    77108   \n",
       "Newton County    100128  100446  100965  102060  103470   104920   106529   \n",
       "Pike County       17929   17792   17780   17784   17774    17935    17916   \n",
       "Chatham County   265799  271665  276243  277790  282396   286239   289055   \n",
       "Fulton County    925622  947582  973464  981844  992321  1005752  1023816   \n",
       "Dodge County      21756   21606   21511   21424   21167    21133    20866   \n",
       "\n",
       "                    2017     2018     2019     2020     2021  \n",
       "Paulding County   159642   164482   169302   169660   173780  \n",
       "Worth County       20532    20307    20185    20719    20554  \n",
       "Grady County       24762    24730    24588    26221    25918  \n",
       "Laurens County     47362    47293    47567    49497    49547  \n",
       "Barrow County      79086    81105    83581    83963    86658  \n",
       "Newton County     107903   109556   111894   112780   115355  \n",
       "Pike County        18213    18622    18953    18935    19477  \n",
       "Chatham County    289771   289771   290185   294904   296329  \n",
       "Fulton County    1039996  1051516  1065019  1069023  1065334  \n",
       "Dodge County       20777    20858    20672    19849    19759  "
      ]
     },
     "execution_count": 21,
     "metadata": {},
     "output_type": "execute_result"
    }
   ],
   "source": [
    "#recreate original data frame that was used for all the plots \n",
    "\n",
    "paulding = merge_census.loc['Paulding County',:]\n",
    "worth = merge_census.loc['Worth County',:]\n",
    "grady = merge_census.loc['Grady County',:]\n",
    "laurens = merge_census.loc['Laurens County',:]\n",
    "barrow = merge_census.loc['Barrow County',:]\n",
    "newton = merge_census.loc['Newton County',:]\n",
    "pike = merge_census.loc['Pike County',:]\n",
    "chatham = merge_census.loc['Chatham County',:]\n",
    "fulton = merge_census.loc['Fulton County',:]\n",
    "dodge = merge_census.loc['Dodge County',:]\n",
    "\n",
    "ppt_counties = pd.DataFrame({\"Paulding County\":paulding, \"Worth County\": worth,\n",
    "                             \"Grady County\": grady, \"Laurens County\": laurens,\n",
    "                             \"Barrow County\": barrow, \"Newton County\": newton,\n",
    "                             \"Pike County\": pike, \"Chatham County\": chatham,\n",
    "                             \"Fulton County\": fulton, \"Dodge County\": dodge\n",
    "                            })\n",
    "#transpose index and columns\n",
    "ppt_counties.T\n",
    "\n",
    "#rename df\n",
    "sample_counties = ppt_counties.T\n",
    "\n",
    "sample_counties"
   ]
  },
  {
   "cell_type": "code",
   "execution_count": 22,
   "id": "4880aa8c",
   "metadata": {},
   "outputs": [
    {
     "name": "stderr",
     "output_type": "stream",
     "text": [
      "objc[65878]: Class WebSwapCGLLayer is implemented in both /System/Library/Frameworks/WebKit.framework/Versions/A/Frameworks/WebCore.framework/Versions/A/Frameworks/libANGLE-shared.dylib (0x7ffa45bf6318) and /Applications/Google Chrome.app/Contents/Frameworks/Google Chrome Framework.framework/Versions/100.0.4896.127/Libraries/libGLESv2.dylib (0x111fbff48). One of the two will be used. Which one is undefined.\n",
      "[0502/101736.063872:INFO:headless_shell.cc(659)] Written to file /var/folders/pr/1_6x41cj4bg9v9n2y7ppnzyc0000gn/T/tmpupovrtvo/temp.png.\n"
     ]
    },
    {
     "data": {
      "text/html": [
       "<div>\n",
       "<style scoped>\n",
       "    .dataframe tbody tr th:only-of-type {\n",
       "        vertical-align: middle;\n",
       "    }\n",
       "\n",
       "    .dataframe tbody tr th {\n",
       "        vertical-align: top;\n",
       "    }\n",
       "\n",
       "    .dataframe thead th {\n",
       "        text-align: right;\n",
       "    }\n",
       "</style>\n",
       "<table border=\"1\" class=\"dataframe\">\n",
       "  <thead>\n",
       "    <tr style=\"text-align: right;\">\n",
       "      <th></th>\n",
       "      <th>2019</th>\n",
       "      <th>2020</th>\n",
       "      <th>2021</th>\n",
       "    </tr>\n",
       "  </thead>\n",
       "  <tbody>\n",
       "    <tr>\n",
       "      <th>count</th>\n",
       "      <td>10.0</td>\n",
       "      <td>10.0</td>\n",
       "      <td>10.0</td>\n",
       "    </tr>\n",
       "    <tr>\n",
       "      <th>mean</th>\n",
       "      <td>185195.0</td>\n",
       "      <td>186555.0</td>\n",
       "      <td>186555.0</td>\n",
       "    </tr>\n",
       "    <tr>\n",
       "      <th>std</th>\n",
       "      <td>321063.0</td>\n",
       "      <td>322253.0</td>\n",
       "      <td>322253.0</td>\n",
       "    </tr>\n",
       "    <tr>\n",
       "      <th>min</th>\n",
       "      <td>18953.0</td>\n",
       "      <td>18935.0</td>\n",
       "      <td>18935.0</td>\n",
       "    </tr>\n",
       "    <tr>\n",
       "      <th>25%</th>\n",
       "      <td>21651.0</td>\n",
       "      <td>22094.0</td>\n",
       "      <td>22094.0</td>\n",
       "    </tr>\n",
       "    <tr>\n",
       "      <th>50%</th>\n",
       "      <td>65574.0</td>\n",
       "      <td>66730.0</td>\n",
       "      <td>66730.0</td>\n",
       "    </tr>\n",
       "    <tr>\n",
       "      <th>75%</th>\n",
       "      <td>154950.0</td>\n",
       "      <td>155440.0</td>\n",
       "      <td>155440.0</td>\n",
       "    </tr>\n",
       "    <tr>\n",
       "      <th>max</th>\n",
       "      <td>1065019.0</td>\n",
       "      <td>1069023.0</td>\n",
       "      <td>1069023.0</td>\n",
       "    </tr>\n",
       "  </tbody>\n",
       "</table>\n",
       "</div>"
      ],
      "text/plain": [
       "            2019       2020       2021\n",
       "count       10.0       10.0       10.0\n",
       "mean    185195.0   186555.0   186555.0\n",
       "std     321063.0   322253.0   322253.0\n",
       "min      18953.0    18935.0    18935.0\n",
       "25%      21651.0    22094.0    22094.0\n",
       "50%      65574.0    66730.0    66730.0\n",
       "75%     154950.0   155440.0   155440.0\n",
       "max    1065019.0  1069023.0  1069023.0"
      ]
     },
     "execution_count": 22,
     "metadata": {},
     "output_type": "execute_result"
    }
   ],
   "source": [
    "#collect statistics for 19, 20, 21\n",
    "sample_counties_19 = round(sample_counties['2019'].describe(),0)\n",
    "sample_counties_20 = round(sample_counties['2020'].describe(),0)\n",
    "sample_counties_21 = round(sample_counties['2020'].describe(),0)\n",
    "\n",
    "#create new df\n",
    "sample_counties_stat = pd.DataFrame({'2019': sample_counties_19, '2020': sample_counties_20, '2021': sample_counties_21})\n",
    "\n",
    "#export\n",
    "sample_counties_stat.dfi.export('plots_tables/sample_counties_stat.png')\n",
    "\n",
    "sample_counties_stat"
   ]
  },
  {
   "cell_type": "code",
   "execution_count": 23,
   "id": "bfd4495b",
   "metadata": {},
   "outputs": [
    {
     "name": "stdout",
     "output_type": "stream",
     "text": [
      "--------------------\n",
      "The lower quartile of 2019 is: 21651.0\n",
      "The upper quartile of 2019 is: 154950.0\n",
      "The interquartile range of 2019 is: 133299.0\n",
      "Values below -178297.5 could be 2019 outliers.\n",
      "Values above 354898.5 could be 2019 outliers.\n",
      "--------------------\n",
      "--------------------\n",
      "The lower quartile of 2020 is: 22094.5\n",
      "The upper quartile of 2020 is: 155440.0\n",
      "The interquartile range of 2020 is: 133345.5\n",
      "Values below -177923.75 could be 2020 outliers.\n",
      "Values above 355458.25 could be 2020 outliers.\n",
      "--------------------\n",
      "--------------------\n",
      "The lower quartile of 2021 is: 21895.0\n",
      "The upper quartile of 2021 is: 159173.75\n",
      "The interquartile range of 2021 is: 137278.75\n",
      "Values below -184023.125 could be 2021 outliers.\n",
      "Values above 365091.875 could be 2021 outliers.\n",
      "--------------------\n"
     ]
    }
   ],
   "source": [
    "# create list of years of interest to loop over \n",
    "years =['2019', '2020', '2021']\n",
    "\n",
    "#empty list\n",
    "ppt_years =[]\n",
    "\n",
    "# for loop\n",
    "for each in years:\n",
    "\n",
    "    ppt_samples = sample_counties[each]\n",
    "    \n",
    "    ppt_years.append(ppt_samples)\n",
    "        \n",
    "# zip into dictionary\n",
    "ppt_year_zip = dict(zip(years, ppt_years))\n",
    "\n",
    "#Calculate the IQR and quantitatively determine if there are any potential outliers.\n",
    "# Determine outliers using upper and lower bounds\n",
    "\n",
    "for each in ppt_year_zip:\n",
    "    quartiles = ppt_year_zip[each].quantile([.25,.5,.75])\n",
    "    lowerq = quartiles[0.25]\n",
    "    upperq = quartiles[0.75]\n",
    "    iqr = upperq-lowerq\n",
    "    lower_bound = lowerq - (1.5*iqr)\n",
    "    upper_bound = upperq + (1.5*iqr)\n",
    "\n",
    "    print(\"--------------------\")\n",
    "    print(f\"The lower quartile of {each} is: {lowerq}\")\n",
    "    print(f\"The upper quartile of {each} is: {upperq}\")\n",
    "    print(f\"The interquartile range of {each} is: {iqr}\")\n",
    "    print(f\"Values below {lower_bound} could be {each} outliers.\")\n",
    "    print(f\"Values above {upper_bound} could be {each} outliers.\")\n",
    "    print(\"--------------------\")"
   ]
  },
  {
   "cell_type": "code",
   "execution_count": 24,
   "id": "fe2df379",
   "metadata": {},
   "outputs": [
    {
     "data": {
      "image/png": "[encoded data removed]",
      "text/plain": [
       "<Figure size 432x288 with 1 Axes>"
      ]
     },
     "metadata": {
      "needs_background": "light"
     },
     "output_type": "display_data"
    }
   ],
   "source": [
    "plt.boxplot(ppt_years)    \n",
    "plt.xlabel(\"Years\")\n",
    "plt.xticks([1,2,3], years)\n",
    "plt.ylabel(\"Population\")\n",
    "plt.title(\"Pre-Covid vs Post Covid\")\n",
    "plt.savefig('plots_tables/pptcovidpostcovid.png')\n",
    "plt.show()"
   ]
  },
  {
   "cell_type": "code",
   "execution_count": 25,
   "id": "fffb2c6b",
   "metadata": {},
   "outputs": [
    {
     "data": {
      "text/html": [
       "<div>\n",
       "<style scoped>\n",
       "    .dataframe tbody tr th:only-of-type {\n",
       "        vertical-align: middle;\n",
       "    }\n",
       "\n",
       "    .dataframe tbody tr th {\n",
       "        vertical-align: top;\n",
       "    }\n",
       "\n",
       "    .dataframe thead th {\n",
       "        text-align: right;\n",
       "    }\n",
       "</style>\n",
       "<table border=\"1\" class=\"dataframe\">\n",
       "  <thead>\n",
       "    <tr style=\"text-align: right;\">\n",
       "      <th></th>\n",
       "      <th>2011</th>\n",
       "      <th>2012</th>\n",
       "      <th>2013</th>\n",
       "      <th>2014</th>\n",
       "      <th>2015</th>\n",
       "      <th>2016</th>\n",
       "      <th>2017</th>\n",
       "      <th>2018</th>\n",
       "      <th>2019</th>\n",
       "      <th>2020</th>\n",
       "      <th>2021</th>\n",
       "    </tr>\n",
       "  </thead>\n",
       "  <tbody>\n",
       "    <tr>\n",
       "      <th>Paulding County</th>\n",
       "      <td>0.546119</td>\n",
       "      <td>0.796624</td>\n",
       "      <td>1.398964</td>\n",
       "      <td>1.217510</td>\n",
       "      <td>2.106191</td>\n",
       "      <td>2.454991</td>\n",
       "      <td>2.719815</td>\n",
       "      <td>3.031784</td>\n",
       "      <td>2.930412</td>\n",
       "      <td>0.211456</td>\n",
       "      <td>2.428386</td>\n",
       "    </tr>\n",
       "    <tr>\n",
       "      <th>Worth County</th>\n",
       "      <td>-0.811359</td>\n",
       "      <td>-0.743633</td>\n",
       "      <td>-1.395392</td>\n",
       "      <td>-0.227942</td>\n",
       "      <td>-1.513565</td>\n",
       "      <td>0.193311</td>\n",
       "      <td>-0.964692</td>\n",
       "      <td>-1.095850</td>\n",
       "      <td>-0.600778</td>\n",
       "      <td>2.645529</td>\n",
       "      <td>-0.796370</td>\n",
       "    </tr>\n",
       "    <tr>\n",
       "      <th>Grady County</th>\n",
       "      <td>0.303672</td>\n",
       "      <td>0.717046</td>\n",
       "      <td>-0.644702</td>\n",
       "      <td>0.461783</td>\n",
       "      <td>-0.515137</td>\n",
       "      <td>-0.840437</td>\n",
       "      <td>-0.534244</td>\n",
       "      <td>-0.129230</td>\n",
       "      <td>-0.574201</td>\n",
       "      <td>6.641451</td>\n",
       "      <td>-1.155562</td>\n",
       "    </tr>\n",
       "    <tr>\n",
       "      <th>Laurens County</th>\n",
       "      <td>-1.130446</td>\n",
       "      <td>-0.045986</td>\n",
       "      <td>-0.192392</td>\n",
       "      <td>-0.364574</td>\n",
       "      <td>-0.130381</td>\n",
       "      <td>-0.429555</td>\n",
       "      <td>0.158606</td>\n",
       "      <td>-0.145686</td>\n",
       "      <td>0.579367</td>\n",
       "      <td>4.057435</td>\n",
       "      <td>0.101016</td>\n",
       "    </tr>\n",
       "    <tr>\n",
       "      <th>Barrow County</th>\n",
       "      <td>0.236831</td>\n",
       "      <td>0.419560</td>\n",
       "      <td>1.575690</td>\n",
       "      <td>2.260188</td>\n",
       "      <td>2.932334</td>\n",
       "      <td>2.839462</td>\n",
       "      <td>2.565233</td>\n",
       "      <td>2.552917</td>\n",
       "      <td>3.052833</td>\n",
       "      <td>0.457042</td>\n",
       "      <td>3.209747</td>\n",
       "    </tr>\n",
       "    <tr>\n",
       "      <th>Newton County</th>\n",
       "      <td>0.317593</td>\n",
       "      <td>0.516696</td>\n",
       "      <td>1.084534</td>\n",
       "      <td>1.381540</td>\n",
       "      <td>1.401372</td>\n",
       "      <td>1.533549</td>\n",
       "      <td>1.289790</td>\n",
       "      <td>1.531931</td>\n",
       "      <td>2.134068</td>\n",
       "      <td>0.791821</td>\n",
       "      <td>2.283206</td>\n",
       "    </tr>\n",
       "    <tr>\n",
       "      <th>Pike County</th>\n",
       "      <td>-0.764125</td>\n",
       "      <td>-0.067446</td>\n",
       "      <td>0.022497</td>\n",
       "      <td>-0.056230</td>\n",
       "      <td>0.905817</td>\n",
       "      <td>-0.105938</td>\n",
       "      <td>1.657736</td>\n",
       "      <td>2.245649</td>\n",
       "      <td>1.777468</td>\n",
       "      <td>-0.094972</td>\n",
       "      <td>2.862424</td>\n",
       "    </tr>\n",
       "    <tr>\n",
       "      <th>Chatham County</th>\n",
       "      <td>2.206931</td>\n",
       "      <td>1.685164</td>\n",
       "      <td>0.560014</td>\n",
       "      <td>1.658087</td>\n",
       "      <td>1.360855</td>\n",
       "      <td>0.983793</td>\n",
       "      <td>0.247704</td>\n",
       "      <td>0.000000</td>\n",
       "      <td>0.142871</td>\n",
       "      <td>1.626204</td>\n",
       "      <td>0.483208</td>\n",
       "    </tr>\n",
       "    <tr>\n",
       "      <th>Fulton County</th>\n",
       "      <td>2.372459</td>\n",
       "      <td>2.731373</td>\n",
       "      <td>0.860843</td>\n",
       "      <td>1.067074</td>\n",
       "      <td>1.353493</td>\n",
       "      <td>1.796069</td>\n",
       "      <td>1.580362</td>\n",
       "      <td>1.107697</td>\n",
       "      <td>1.284146</td>\n",
       "      <td>0.375956</td>\n",
       "      <td>-0.345081</td>\n",
       "    </tr>\n",
       "    <tr>\n",
       "      <th>Dodge County</th>\n",
       "      <td>-0.689465</td>\n",
       "      <td>-0.439693</td>\n",
       "      <td>-0.404444</td>\n",
       "      <td>-1.199589</td>\n",
       "      <td>-0.160627</td>\n",
       "      <td>-1.263427</td>\n",
       "      <td>-0.426531</td>\n",
       "      <td>0.389854</td>\n",
       "      <td>-0.891744</td>\n",
       "      <td>-3.981231</td>\n",
       "      <td>-0.453423</td>\n",
       "    </tr>\n",
       "  </tbody>\n",
       "</table>\n",
       "</div>"
      ],
      "text/plain": [
       "                     2011      2012      2013      2014      2015      2016  \\\n",
       "Paulding County  0.546119  0.796624  1.398964  1.217510  2.106191  2.454991   \n",
       "Worth County    -0.811359 -0.743633 -1.395392 -0.227942 -1.513565  0.193311   \n",
       "Grady County     0.303672  0.717046 -0.644702  0.461783 -0.515137 -0.840437   \n",
       "Laurens County  -1.130446 -0.045986 -0.192392 -0.364574 -0.130381 -0.429555   \n",
       "Barrow County    0.236831  0.419560  1.575690  2.260188  2.932334  2.839462   \n",
       "Newton County    0.317593  0.516696  1.084534  1.381540  1.401372  1.533549   \n",
       "Pike County     -0.764125 -0.067446  0.022497 -0.056230  0.905817 -0.105938   \n",
       "Chatham County   2.206931  1.685164  0.560014  1.658087  1.360855  0.983793   \n",
       "Fulton County    2.372459  2.731373  0.860843  1.067074  1.353493  1.796069   \n",
       "Dodge County    -0.689465 -0.439693 -0.404444 -1.199589 -0.160627 -1.263427   \n",
       "\n",
       "                     2017      2018      2019      2020      2021  \n",
       "Paulding County  2.719815  3.031784  2.930412  0.211456  2.428386  \n",
       "Worth County    -0.964692 -1.095850 -0.600778  2.645529 -0.796370  \n",
       "Grady County    -0.534244 -0.129230 -0.574201  6.641451 -1.155562  \n",
       "Laurens County   0.158606 -0.145686  0.579367  4.057435  0.101016  \n",
       "Barrow County    2.565233  2.552917  3.052833  0.457042  3.209747  \n",
       "Newton County    1.289790  1.531931  2.134068  0.791821  2.283206  \n",
       "Pike County      1.657736  2.245649  1.777468 -0.094972  2.862424  \n",
       "Chatham County   0.247704  0.000000  0.142871  1.626204  0.483208  \n",
       "Fulton County    1.580362  1.107697  1.284146  0.375956 -0.345081  \n",
       "Dodge County    -0.426531  0.389854 -0.891744 -3.981231 -0.453423  "
      ]
     },
     "execution_count": 25,
     "metadata": {},
     "output_type": "execute_result"
    }
   ],
   "source": [
    "#percent change\n",
    "samp_change = sample_counties.pct_change(axis= 'columns', periods =1)\n",
    "\n",
    "#drop 2010 \n",
    "samp_change = samp_change.drop(columns=['2010'])\n",
    "#multiply by 100 for percent\n",
    "per_samp_change= samp_change*100\n",
    "\n",
    "per_samp_change"
   ]
  },
  {
   "cell_type": "code",
   "execution_count": 26,
   "id": "acb5be24",
   "metadata": {},
   "outputs": [
    {
     "name": "stderr",
     "output_type": "stream",
     "text": [
      "objc[65888]: Class WebSwapCGLLayer is implemented in both /System/Library/Frameworks/WebKit.framework/Versions/A/Frameworks/WebCore.framework/Versions/A/Frameworks/libANGLE-shared.dylib (0x7ffa45bf6318) and /Applications/Google Chrome.app/Contents/Frameworks/Google Chrome Framework.framework/Versions/100.0.4896.127/Libraries/libGLESv2.dylib (0x11293cf48). One of the two will be used. Which one is undefined.\n",
      "[0502/101739.513698:INFO:headless_shell.cc(659)] Written to file /var/folders/pr/1_6x41cj4bg9v9n2y7ppnzyc0000gn/T/tmpim428rsq/temp.png.\n"
     ]
    },
    {
     "data": {
      "text/html": [
       "<div>\n",
       "<style scoped>\n",
       "    .dataframe tbody tr th:only-of-type {\n",
       "        vertical-align: middle;\n",
       "    }\n",
       "\n",
       "    .dataframe tbody tr th {\n",
       "        vertical-align: top;\n",
       "    }\n",
       "\n",
       "    .dataframe thead th {\n",
       "        text-align: right;\n",
       "    }\n",
       "</style>\n",
       "<table border=\"1\" class=\"dataframe\">\n",
       "  <thead>\n",
       "    <tr style=\"text-align: right;\">\n",
       "      <th></th>\n",
       "      <th>2019</th>\n",
       "      <th>2020</th>\n",
       "      <th>2021</th>\n",
       "    </tr>\n",
       "  </thead>\n",
       "  <tbody>\n",
       "    <tr>\n",
       "      <th>count</th>\n",
       "      <td>10.000</td>\n",
       "      <td>10.000</td>\n",
       "      <td>10.000</td>\n",
       "    </tr>\n",
       "    <tr>\n",
       "      <th>mean</th>\n",
       "      <td>0.983</td>\n",
       "      <td>1.273</td>\n",
       "      <td>1.273</td>\n",
       "    </tr>\n",
       "    <tr>\n",
       "      <th>std</th>\n",
       "      <td>1.470</td>\n",
       "      <td>2.807</td>\n",
       "      <td>2.807</td>\n",
       "    </tr>\n",
       "    <tr>\n",
       "      <th>min</th>\n",
       "      <td>-0.892</td>\n",
       "      <td>-3.981</td>\n",
       "      <td>-3.981</td>\n",
       "    </tr>\n",
       "    <tr>\n",
       "      <th>25%</th>\n",
       "      <td>-0.395</td>\n",
       "      <td>0.253</td>\n",
       "      <td>0.253</td>\n",
       "    </tr>\n",
       "    <tr>\n",
       "      <th>50%</th>\n",
       "      <td>0.932</td>\n",
       "      <td>0.624</td>\n",
       "      <td>0.624</td>\n",
       "    </tr>\n",
       "    <tr>\n",
       "      <th>75%</th>\n",
       "      <td>2.045</td>\n",
       "      <td>2.391</td>\n",
       "      <td>2.391</td>\n",
       "    </tr>\n",
       "    <tr>\n",
       "      <th>max</th>\n",
       "      <td>3.053</td>\n",
       "      <td>6.641</td>\n",
       "      <td>6.641</td>\n",
       "    </tr>\n",
       "  </tbody>\n",
       "</table>\n",
       "</div>"
      ],
      "text/plain": [
       "         2019    2020    2021\n",
       "count  10.000  10.000  10.000\n",
       "mean    0.983   1.273   1.273\n",
       "std     1.470   2.807   2.807\n",
       "min    -0.892  -3.981  -3.981\n",
       "25%    -0.395   0.253   0.253\n",
       "50%     0.932   0.624   0.624\n",
       "75%     2.045   2.391   2.391\n",
       "max     3.053   6.641   6.641"
      ]
     },
     "execution_count": 26,
     "metadata": {},
     "output_type": "execute_result"
    }
   ],
   "source": [
    "#collect statistics for 19, 20, 21\n",
    "per_sample_counties_19 = round(per_samp_change['2019'].describe(),3)\n",
    "per_sample_counties_20 = round(per_samp_change['2020'].describe(),3)\n",
    "per_sample_counties_21 = round(per_samp_change['2020'].describe(),3)\n",
    "\n",
    "#create new df\n",
    "per_sample_counties_stat = pd.DataFrame({'2019': per_sample_counties_19, '2020': per_sample_counties_20, '2021': per_sample_counties_21})\n",
    "\n",
    "#export\n",
    "per_sample_counties_stat.dfi.export('plots_tables/per_sample_counties_stat.png')\n",
    "\n",
    "per_sample_counties_stat"
   ]
  },
  {
   "cell_type": "code",
   "execution_count": 27,
   "id": "aa329b94",
   "metadata": {},
   "outputs": [
    {
     "name": "stdout",
     "output_type": "stream",
     "text": [
      "--------------------\n",
      "The lower quartile of 2019 is: -0.3949331711709858\n",
      "The upper quartile of 2019 is: 2.0449181941082193\n",
      "The interquartile range of 2019 is: 2.439851365279205\n",
      "Values below -4.0547102190897935 could be 2019 outliers.\n",
      "Values above 5.704695242027027 could be 2019 outliers.\n",
      "--------------------\n",
      "--------------------\n",
      "The lower quartile of 2020 is: 0.2525812714830544\n",
      "The upper quartile of 2020 is: 2.3906976368790356\n",
      "The interquartile range of 2020 is: 2.138116365395981\n",
      "Values below -2.9545932766109173 could be 2020 outliers.\n",
      "Values above 5.597872184973007 could be 2020 outliers.\n",
      "--------------------\n",
      "--------------------\n",
      "The lower quartile of 2021 is: -0.4263378705791354\n",
      "The upper quartile of 2021 is: 2.392091198660112\n",
      "The interquartile range of 2021 is: 2.8184290692392473\n",
      "Values below -4.653981474438006 could be 2021 outliers.\n",
      "Values above 6.619734802518983 could be 2021 outliers.\n",
      "--------------------\n"
     ]
    }
   ],
   "source": [
    "# create list of years of interest to loop over \n",
    "years =['2019', '2020', '2021']\n",
    "\n",
    "#empty list\n",
    "per_ppt_years =[]\n",
    "\n",
    "# for loop\n",
    "for each in years:\n",
    "\n",
    "    per_ppt_samples = per_samp_change[each]\n",
    "    \n",
    "    per_ppt_years.append(per_ppt_samples)\n",
    "        \n",
    "# zip into dictionary\n",
    "per_ppt_year_zip = dict(zip(years, per_ppt_years))\n",
    "\n",
    "#Calculate the IQR and quantitatively determine if there are any potential outliers.\n",
    "# Determine outliers using upper and lower bounds\n",
    "\n",
    "for each in per_ppt_year_zip:\n",
    "    quartiles = per_ppt_year_zip[each].quantile([.25,.5,.75])\n",
    "    lowerq = quartiles[0.25]\n",
    "    upperq = quartiles[0.75]\n",
    "    iqr = upperq-lowerq\n",
    "    lower_bound = lowerq - (1.5*iqr)\n",
    "    upper_bound = upperq + (1.5*iqr)\n",
    "\n",
    "    print(\"--------------------\")\n",
    "    print(f\"The lower quartile of {each} is: {lowerq}\")\n",
    "    print(f\"The upper quartile of {each} is: {upperq}\")\n",
    "    print(f\"The interquartile range of {each} is: {iqr}\")\n",
    "    print(f\"Values below {lower_bound} could be {each} outliers.\")\n",
    "    print(f\"Values above {upper_bound} could be {each} outliers.\")\n",
    "    print(\"--------------------\")"
   ]
  },
  {
   "cell_type": "code",
   "execution_count": 28,
   "id": "33e4310b",
   "metadata": {},
   "outputs": [
    {
     "data": {
      "image/png": "[encoded data removed]",
      "text/plain": [
       "<Figure size 432x288 with 1 Axes>"
      ]
     },
     "metadata": {
      "needs_background": "light"
     },
     "output_type": "display_data"
    }
   ],
   "source": [
    "plt.boxplot(per_ppt_years)    \n",
    "plt.xlabel(\"Years\")\n",
    "plt.xticks([1,2,3], years)\n",
    "plt.ylabel(\"% Change\")\n",
    "plt.title(\"% Change Pre-Covid vs Post Covid\")\n",
    "plt.savefig('plots_tables/perpptcovidpostcovid.png')\n",
    "plt.show()"
   ]
  },
  {
   "cell_type": "code",
   "execution_count": 29,
   "id": "0914589a",
   "metadata": {},
   "outputs": [
    {
     "data": {
      "image/png": "[encoded data removed]",
      "text/plain": [
       "<Figure size 432x288 with 1 Axes>"
      ]
     },
     "metadata": {
      "needs_background": "light"
     },
     "output_type": "display_data"
    }
   ],
   "source": [
    "#compare the population change between Fulton and Chatham \n",
    "plt.plot(sample_counties.T['Fulton County'], label='Fulton County' );\n",
    "plt.plot(sample_counties.T['Chatham County'], label='Chatham County' );\n",
    "plt.legend(loc=\"best\")\n",
    "plt.yscale('log')\n",
    "\n",
    "#labeling \n",
    "plt.title(\"Fulton vs Chatham\")\n",
    "plt.xlabel(\"Year\")\n",
    "plt.ylabel(\"Population\")\n",
    "\n",
    "#save figure\n",
    "plt.savefig('plots_tables/fulton_chatham_plot.png')\n",
    "plt.show()"
   ]
  },
  {
   "cell_type": "code",
   "execution_count": 30,
   "id": "de156d90",
   "metadata": {},
   "outputs": [
    {
     "data": {
      "image/png": "[encoded data removed]",
      "text/plain": [
       "<Figure size 432x288 with 1 Axes>"
      ]
     },
     "metadata": {
      "needs_background": "light"
     },
     "output_type": "display_data"
    }
   ],
   "source": [
    "#compare % change between Fulton and Chatham\n",
    "plt.plot(per_samp_change.T['Fulton County'], label='Fulton County');\n",
    "plt.plot(per_samp_change.T['Chatham County'], label='Chatham County');\n",
    "plt.legend(loc=\"lower left\")\n",
    "\n",
    "#labeling \n",
    "plt.title(\"Fulton vs Chatham % Change\")\n",
    "plt.xlabel(\"Year\")\n",
    "plt.ylabel(\"% Change\")\n",
    "\n",
    "plt.savefig('plots_tables/fulton_chatham_change_plot.png')\n",
    "plt.show()"
   ]
  },
  {
   "cell_type": "code",
   "execution_count": 31,
   "id": "6f094733",
   "metadata": {},
   "outputs": [
    {
     "data": {
      "image/png": "[encoded data removed]",
      "text/plain": [
       "<Figure size 432x288 with 1 Axes>"
      ]
     },
     "metadata": {
      "needs_background": "light"
     },
     "output_type": "display_data"
    }
   ],
   "source": [
    "#compare population change between Barrow and County \n",
    "plt.plot(sample_counties.T['Barrow County'], label='Barrow County' );\n",
    "plt.plot(sample_counties.T['Worth County'], label='Worth County' );\n",
    "plt.legend(loc=\"best\")\n",
    "\n",
    "#labeling \n",
    "plt.title(\"Barrow vs Worth\")\n",
    "plt.xlabel(\"Year\")\n",
    "plt.ylabel(\"Population\")\n",
    "\n",
    "plt.savefig('plots_tables/barrow_worth_plot.png')\n",
    "plt.show()"
   ]
  },
  {
   "cell_type": "code",
   "execution_count": 32,
   "id": "26c1af5a",
   "metadata": {},
   "outputs": [
    {
     "data": {
      "image/png": "[encoded data removed]",
      "text/plain": [
       "<Figure size 432x288 with 1 Axes>"
      ]
     },
     "metadata": {
      "needs_background": "light"
     },
     "output_type": "display_data"
    }
   ],
   "source": [
    "#compare % change between Barrow and Worth\n",
    "plt.plot(per_samp_change.T['Barrow County'], label='Barrow County');\n",
    "plt.plot(per_samp_change.T['Worth County'], label='Worth County');\n",
    "plt.legend(loc=\"best\")\n",
    "\n",
    "#labeling \n",
    "plt.title(\"Barrow vs Worth % Change\")\n",
    "plt.xlabel(\"Year\")\n",
    "plt.ylabel(\"% Change\")\n",
    "\n",
    "plt.savefig('plots_tables/barrow_worth_change_plot.png')\n",
    "plt.show()"
   ]
  },
  {
   "cell_type": "code",
   "execution_count": 33,
   "id": "477bd5cc",
   "metadata": {},
   "outputs": [
    {
     "data": {
      "image/png": "[encoded data removed]",
      "text/plain": [
       "<Figure size 432x288 with 1 Axes>"
      ]
     },
     "metadata": {
      "needs_background": "light"
     },
     "output_type": "display_data"
    }
   ],
   "source": [
    "#compare the population change between Grady and Pike \n",
    "plt.plot(sample_counties.T['Grady County'], label='Grady County' );\n",
    "plt.plot(sample_counties.T['Pike County'], label='PIke County' );\n",
    "plt.legend(loc=\"best\")\n",
    "\n",
    "#labeling \n",
    "plt.title(\"Grady vs Pike\")\n",
    "plt.xlabel(\"Year\")\n",
    "plt.ylabel(\"Population\")\n",
    "\n",
    "plt.savefig('plots_tables/grady_pike_plot.png')\n",
    "plt.show()"
   ]
  },
  {
   "cell_type": "code",
   "execution_count": 34,
   "id": "56c7422c",
   "metadata": {},
   "outputs": [
    {
     "data": {
      "image/png": "[encoded data removed]",
      "text/plain": [
       "<Figure size 432x288 with 1 Axes>"
      ]
     },
     "metadata": {
      "needs_background": "light"
     },
     "output_type": "display_data"
    }
   ],
   "source": [
    "#compare % change between Grady and Pike\n",
    "plt.plot(per_samp_change.T['Grady County'], label='Grady County');\n",
    "plt.plot(per_samp_change.T['Pike County'], label='Pike County');\n",
    "plt.legend(loc=\"best\")\n",
    "#labeling \n",
    "plt.title(\"Grady vs Pike % Change\")\n",
    "plt.xlabel(\"Year\")\n",
    "plt.ylabel(\"% Change\")\n",
    "\n",
    "plt.savefig('plots_tables/grady_pike_change_plot.png')\n",
    "plt.show()"
   ]
  },
  {
   "cell_type": "code",
   "execution_count": 35,
   "id": "d97f223a",
   "metadata": {
    "scrolled": true
   },
   "outputs": [],
   "source": [
    "# setting the x and y axis \n",
    "fulton_years = sample_counties.T['Fulton County'].index.astype(float)\n",
    "fulton_pop = sample_counties.T['Fulton County']"
   ]
  },
  {
   "cell_type": "code",
   "execution_count": 36,
   "id": "7db6a976",
   "metadata": {},
   "outputs": [
    {
     "name": "stdout",
     "output_type": "stream",
     "text": [
      "The r-squared is: 0.9674131773839155\n"
     ]
    },
    {
     "data": {
      "text/plain": [
       "<function matplotlib.pyplot.show(close=None, block=None)>"
      ]
     },
     "execution_count": 36,
     "metadata": {},
     "output_type": "execute_result"
    },
    {
     "data": {
      "image/png": "[encoded data removed]",
      "text/plain": [
       "<Figure size 432x288 with 1 Axes>"
      ]
     },
     "metadata": {
      "needs_background": "light"
     },
     "output_type": "display_data"
    }
   ],
   "source": [
    "# using linregress from scipy.stats\n",
    "(slope, intercept, rvalue, pvalue, stderr) = linregress(fulton_years,fulton_pop)\n",
    "regress_values = fulton_years * slope + intercept\n",
    "\n",
    "# making a text version of our equation\n",
    "line_eq = \"y = \" + str(round(slope,2)) + \"x + \" + str(round(intercept,2))\n",
    "\n",
    "# draw initial scatter\n",
    "plt.scatter(fulton_years, fulton_pop, edgecolor = \"black\")\n",
    "\n",
    "# draw our regression line\n",
    "plt.plot(fulton_years,regress_values,\"r-\")\n",
    "\n",
    "# annotate on our figure the line equation in red\n",
    "plt.annotate(line_eq,(2010,1060000),fontsize=15,color=\"red\")\n",
    "plt.annotate(f'r-value:{round(rvalue,3)}',(2010,1030000), fontsize = 15, color = \"red\")\n",
    "#labeling \n",
    "plt.title(\"Population Change for Fulton\")\n",
    "plt.xlabel(\"year\")\n",
    "plt.ylabel(\"Population\")\n",
    "plt.savefig('plots_tables/fulton_pop_reg.png')\n",
    "print(f\"The r-squared is: {rvalue**2}\")\n",
    "plt.show"
   ]
  },
  {
   "cell_type": "code",
   "execution_count": 37,
   "id": "3402d339",
   "metadata": {},
   "outputs": [],
   "source": [
    "# setting the x and y axis \n",
    "fulton_per = per_samp_change.T['Fulton County']\n",
    "fulton_per_year = per_samp_change.T['Fulton County'].index.astype(float)"
   ]
  },
  {
   "cell_type": "code",
   "execution_count": 38,
   "id": "faabd291",
   "metadata": {},
   "outputs": [
    {
     "name": "stdout",
     "output_type": "stream",
     "text": [
      "The r-squared is: 0.5665640906797725\n"
     ]
    },
    {
     "data": {
      "text/plain": [
       "<function matplotlib.pyplot.show(close=None, block=None)>"
      ]
     },
     "execution_count": 38,
     "metadata": {},
     "output_type": "execute_result"
    },
    {
     "data": {
      "image/png": "[encoded data removed]",
      "text/plain": [
       "<Figure size 432x288 with 1 Axes>"
      ]
     },
     "metadata": {
      "needs_background": "light"
     },
     "output_type": "display_data"
    }
   ],
   "source": [
    "# using linregress from scipy.stats\n",
    "(slope, intercept, rvalue, pvalue, stderr) = linregress(fulton_per_year,fulton_per)\n",
    "regress_values = fulton_per_year * slope + intercept\n",
    "\n",
    "# making a text version of our equation\n",
    "line_eq = \"y = \" + str(round(slope,2)) + \"x + \" + str(round(intercept,2))\n",
    "\n",
    "# draw initial scatter\n",
    "plt.scatter(fulton_per_year, fulton_per, edgecolor = \"black\")\n",
    "\n",
    "# draw our regression line\n",
    "plt.plot(fulton_per_year,regress_values,\"r-\")\n",
    "\n",
    "# annotate on our figure the line equation in red\n",
    "plt.annotate(line_eq,(2011,0.5),fontsize=15,color=\"red\")\n",
    "plt.annotate(f'r-value:{round(rvalue,3)}',(2011,0), fontsize = 15, color = \"red\")\n",
    "#labeling \n",
    "plt.title(\"% Change for Fulton\")\n",
    "plt.xlabel(\"year\")\n",
    "plt.ylabel(\"% change\")\n",
    "plt.savefig('plots_tables/fulton_pop_per_reg.png')\n",
    "print(f\"The r-squared is: {rvalue**2}\")\n",
    "plt.show"
   ]
  },
  {
   "cell_type": "code",
   "execution_count": 39,
   "id": "a4068826",
   "metadata": {},
   "outputs": [],
   "source": [
    "# setting the x and y axis \n",
    "chatham_years = sample_counties.T['Chatham County'].index.astype(float)\n",
    "chatham_pop = sample_counties.T['Chatham County']"
   ]
  },
  {
   "cell_type": "code",
   "execution_count": 40,
   "id": "486d8817",
   "metadata": {},
   "outputs": [
    {
     "name": "stdout",
     "output_type": "stream",
     "text": [
      "The r-squared is: 0.9337720205022065\n"
     ]
    },
    {
     "data": {
      "text/plain": [
       "<function matplotlib.pyplot.show(close=None, block=None)>"
      ]
     },
     "execution_count": 40,
     "metadata": {},
     "output_type": "execute_result"
    },
    {
     "data": {
      "image/png": "[encoded data removed]",
      "text/plain": [
       "<Figure size 432x288 with 1 Axes>"
      ]
     },
     "metadata": {
      "needs_background": "light"
     },
     "output_type": "display_data"
    }
   ],
   "source": [
    "# using linregress from scipy.stats\n",
    "(slope, intercept, rvalue, pvalue, stderr) = linregress(chatham_years,chatham_pop)\n",
    "regress_values = chatham_years * slope + intercept\n",
    "\n",
    "# making a text version of our equation\n",
    "line_eq = \"y = \" + str(round(slope,2)) + \"x + \" + str(round(intercept,2))\n",
    "\n",
    "# draw initial scatter\n",
    "plt.scatter(chatham_years, chatham_pop, edgecolor = \"black\")\n",
    "\n",
    "# draw our regression line\n",
    "plt.plot(chatham_years,regress_values,\"r-\")\n",
    "\n",
    "# annotate on our figure the line equation in red\n",
    "plt.annotate(line_eq,(2013,275000),fontsize=15,color=\"red\")\n",
    "plt.annotate(f'r-value:{round(rvalue,3)}',(2014,270000), fontsize = 15, color = \"red\")\n",
    "#labeling \n",
    "plt.title(\"Population Change for Chatham\")\n",
    "plt.xlabel(\"year\")\n",
    "plt.ylabel(\"Population\")\n",
    "plt.savefig('plots_tables/chatham_pop_reg.png')\n",
    "print(f\"The r-squared is: {rvalue**2}\")\n",
    "plt.show"
   ]
  },
  {
   "cell_type": "code",
   "execution_count": 41,
   "id": "472a02e8",
   "metadata": {},
   "outputs": [],
   "source": [
    "# setting the x and y axis \n",
    "chatham_per = per_samp_change.T['Chatham County']\n",
    "chatham_per_year = per_samp_change.T['Chatham County'].index.astype(float)"
   ]
  },
  {
   "cell_type": "code",
   "execution_count": 42,
   "id": "e6e65753",
   "metadata": {},
   "outputs": [
    {
     "name": "stdout",
     "output_type": "stream",
     "text": [
      "The r-squared is: 0.3403660066509063\n"
     ]
    },
    {
     "data": {
      "text/plain": [
       "<function matplotlib.pyplot.show(close=None, block=None)>"
      ]
     },
     "execution_count": 42,
     "metadata": {},
     "output_type": "execute_result"
    },
    {
     "data": {
      "image/png": "[encoded data removed]",
      "text/plain": [
       "<Figure size 432x288 with 1 Axes>"
      ]
     },
     "metadata": {
      "needs_background": "light"
     },
     "output_type": "display_data"
    }
   ],
   "source": [
    "# using linregress from scipy.stats\n",
    "(slope, intercept, rvalue, pvalue, stderr) = linregress(chatham_per_year,chatham_per)\n",
    "regress_values = chatham_per_year * slope + intercept\n",
    "\n",
    "# making a text version of our equation\n",
    "line_eq = \"y = \" + str(round(slope,2)) + \"x + \" + str(round(intercept,2))\n",
    "\n",
    "# draw initial scatter\n",
    "plt.scatter(chatham_per_year, chatham_per, edgecolor = \"black\")\n",
    "\n",
    "# draw our regression line\n",
    "plt.plot(chatham_per_year,regress_values,\"r-\")\n",
    "\n",
    "# annotate on our figure the line equation in red\n",
    "plt.annotate(line_eq,(2011,0.25),fontsize=15,color=\"red\")\n",
    "plt.annotate(f'r-value:{round(rvalue,3)}',(2011,0), fontsize = 15, color = \"red\")\n",
    "#labeling \n",
    "plt.title(\"% Change for Chatham\")\n",
    "plt.xlabel(\"year\")\n",
    "plt.ylabel(\"% change\")\n",
    "plt.savefig('plots_tables/chatham_pop_per_reg.png')\n",
    "print(f\"The r-squared is: {rvalue**2}\")\n",
    "plt.show"
   ]
  },
  {
   "cell_type": "code",
   "execution_count": 43,
   "id": "829213e0",
   "metadata": {},
   "outputs": [],
   "source": [
    "# setting the x and y axis \n",
    "grady_years = sample_counties.T['Grady County'].index.astype(float)\n",
    "grady_pop = sample_counties.T['Grady County']"
   ]
  },
  {
   "cell_type": "code",
   "execution_count": 44,
   "id": "5bc62a07",
   "metadata": {},
   "outputs": [
    {
     "name": "stdout",
     "output_type": "stream",
     "text": [
      "The r-squared is: 0.09159820413588947\n"
     ]
    },
    {
     "data": {
      "text/plain": [
       "<function matplotlib.pyplot.show(close=None, block=None)>"
      ]
     },
     "execution_count": 44,
     "metadata": {},
     "output_type": "execute_result"
    },
    {
     "data": {
      "image/png": "[encoded data removed]",
      "text/plain": [
       "<Figure size 432x288 with 1 Axes>"
      ]
     },
     "metadata": {
      "needs_background": "light"
     },
     "output_type": "display_data"
    }
   ],
   "source": [
    "# using linregress from scipy.stats\n",
    "(slope, intercept, rvalue, pvalue, stderr) = linregress(grady_years,grady_pop)\n",
    "regress_values = grady_years * slope + intercept\n",
    "\n",
    "# making a text version of our equation\n",
    "line_eq = \"y = \" + str(round(slope,2)) + \"x + \" + str(round(intercept,2))\n",
    "\n",
    "# draw initial scatter\n",
    "plt.scatter(grady_years, grady_pop, edgecolor = \"black\")\n",
    "\n",
    "# draw our regression line\n",
    "plt.plot(grady_years,regress_values,\"r-\")\n",
    "\n",
    "# annotate on our figure the line equation in red\n",
    "plt.annotate(line_eq,(2010,26000),fontsize=15,color=\"red\")\n",
    "plt.annotate(f'r-value:{round(rvalue,3)}',(2010,25800), fontsize = 15, color = \"red\")\n",
    "#labeling \n",
    "plt.title(\"Population Change for Grady\")\n",
    "plt.xlabel(\"year\")\n",
    "plt.ylabel(\"Population\")\n",
    "plt.savefig('plots_tables/grady_pop_reg.png')\n",
    "print(f\"The r-squared is: {rvalue**2}\")\n",
    "plt.show"
   ]
  },
  {
   "cell_type": "code",
   "execution_count": 45,
   "id": "b9f5ad5d",
   "metadata": {},
   "outputs": [],
   "source": [
    "# setting the x and y axis \n",
    "grady_per = per_samp_change.T['Grady County']\n",
    "grady_per_year = per_samp_change.T['Grady County'].index.astype(float)"
   ]
  },
  {
   "cell_type": "code",
   "execution_count": 46,
   "id": "5806c059",
   "metadata": {},
   "outputs": [
    {
     "name": "stdout",
     "output_type": "stream",
     "text": [
      "The r-squared is: 0.04592530592906027\n"
     ]
    },
    {
     "data": {
      "text/plain": [
       "<function matplotlib.pyplot.show(close=None, block=None)>"
      ]
     },
     "execution_count": 46,
     "metadata": {},
     "output_type": "execute_result"
    },
    {
     "data": {
      "image/png": "[encoded data removed]",
      "text/plain": [
       "<Figure size 432x288 with 1 Axes>"
      ]
     },
     "metadata": {
      "needs_background": "light"
     },
     "output_type": "display_data"
    }
   ],
   "source": [
    "# using linregress from scipy.stats\n",
    "(slope, intercept, rvalue, pvalue, stderr) = linregress(grady_per_year,grady_per)\n",
    "regress_values = grady_per_year * slope + intercept\n",
    "\n",
    "# making a text version of our equation\n",
    "line_eq = \"y = \" + str(round(slope,2)) + \"x + \" + str(round(intercept,2))\n",
    "\n",
    "# draw initial scatter\n",
    "plt.scatter(grady_per_year, grady_per, edgecolor = \"black\")\n",
    "\n",
    "# draw our regression line\n",
    "plt.plot(grady_per_year,regress_values,\"r-\")\n",
    "\n",
    "# annotate on our figure the line equation in red\n",
    "plt.annotate(line_eq,(2014,3.25),fontsize=15,color=\"red\")\n",
    "plt.annotate(f'r-value:{round(rvalue,3)}',(2014,2), fontsize = 15, color = \"red\")\n",
    "#labeling \n",
    "plt.title(\"% Change for Grady\")\n",
    "plt.xlabel(\"year\")\n",
    "plt.ylabel(\"% change\")\n",
    "plt.savefig('plots_tables/grady_pop_per_reg.png')\n",
    "print(f\"The r-squared is: {rvalue**2}\")\n",
    "plt.show"
   ]
  },
  {
   "cell_type": "code",
   "execution_count": 47,
   "id": "187ae867",
   "metadata": {},
   "outputs": [],
   "source": [
    "# setting the x and y axis \n",
    "worth_years = sample_counties.T['Worth County'].index.astype(float)\n",
    "worth_pop = sample_counties.T['Worth County']"
   ]
  },
  {
   "cell_type": "code",
   "execution_count": 48,
   "id": "caab07bb",
   "metadata": {},
   "outputs": [
    {
     "name": "stdout",
     "output_type": "stream",
     "text": [
      "The r-squared is: 0.7764997093787491\n"
     ]
    },
    {
     "data": {
      "text/plain": [
       "<function matplotlib.pyplot.show(close=None, block=None)>"
      ]
     },
     "execution_count": 48,
     "metadata": {},
     "output_type": "execute_result"
    },
    {
     "data": {
      "image/png": "[encoded data removed]",
      "text/plain": [
       "<Figure size 432x288 with 1 Axes>"
      ]
     },
     "metadata": {
      "needs_background": "light"
     },
     "output_type": "display_data"
    }
   ],
   "source": [
    "# using linregress from scipy.stats\n",
    "(slope, intercept, rvalue, pvalue, stderr) = linregress(worth_years,worth_pop)\n",
    "regress_values = worth_years * slope + intercept\n",
    "\n",
    "# making a text version of our equation\n",
    "line_eq = \"y = \" + str(round(slope,2)) + \"x + \" + str(round(intercept,2))\n",
    "\n",
    "# draw initial scatter\n",
    "plt.scatter(worth_years, worth_pop, edgecolor = \"black\")\n",
    "\n",
    "# draw our regression line\n",
    "plt.plot(worth_years,regress_values,\"r-\")\n",
    "\n",
    "# annotate on our figure the line equation in red\n",
    "plt.annotate(line_eq,(2014,21400),fontsize=15,color=\"red\")\n",
    "plt.annotate(f'r-value:{round(rvalue,3)}',(2014,21200), fontsize = 15, color = \"red\")\n",
    "#labeling \n",
    "plt.title(\"Population Change for Worth\")\n",
    "plt.xlabel(\"year\")\n",
    "plt.ylabel(\"Population\")\n",
    "plt.savefig('plots_tables/worth_pop_reg.png')\n",
    "print(f\"The r-squared is: {rvalue**2}\")\n",
    "plt.show"
   ]
  },
  {
   "cell_type": "code",
   "execution_count": 49,
   "id": "46ce6e57",
   "metadata": {},
   "outputs": [],
   "source": [
    "# setting the x and y axis \n",
    "worth_per = per_samp_change.T['Worth County']\n",
    "worth_per_year = per_samp_change.T['Worth County'].index.astype(float)"
   ]
  },
  {
   "cell_type": "code",
   "execution_count": 50,
   "id": "5e654dfb",
   "metadata": {},
   "outputs": [
    {
     "name": "stdout",
     "output_type": "stream",
     "text": [
      "The r-squared is: 0.15259008460634854\n"
     ]
    },
    {
     "data": {
      "text/plain": [
       "<function matplotlib.pyplot.show(close=None, block=None)>"
      ]
     },
     "execution_count": 50,
     "metadata": {},
     "output_type": "execute_result"
    },
    {
     "data": {
      "image/png": "[encoded data removed]",
      "text/plain": [
       "<Figure size 432x288 with 1 Axes>"
      ]
     },
     "metadata": {
      "needs_background": "light"
     },
     "output_type": "display_data"
    }
   ],
   "source": [
    "# using linregress from scipy.stats\n",
    "(slope, intercept, rvalue, pvalue, stderr) = linregress(worth_per_year,worth_per)\n",
    "regress_values = worth_per_year * slope + intercept\n",
    "\n",
    "# making a text version of our equation\n",
    "line_eq = \"y = \" + str(round(slope,2)) + \"x + \" + str(round(intercept,2))\n",
    "\n",
    "# draw initial scatter\n",
    "plt.scatter(worth_per_year, worth_per, edgecolor = \"black\")\n",
    "\n",
    "# draw our regression line\n",
    "plt.plot(worth_per_year,regress_values,\"r-\")\n",
    "\n",
    "# annotate on our figure the line equation in red\n",
    "plt.annotate(line_eq,(2011,1.5),fontsize=15,color=\"red\")\n",
    "plt.annotate(f'r-value:{round(rvalue,3)}',(2011,1), fontsize = 15, color = \"red\")\n",
    "#labeling \n",
    "plt.title(\"% Change for Worth\")\n",
    "plt.xlabel(\"year\")\n",
    "plt.ylabel(\"% change\")\n",
    "plt.savefig('plots_tables/worth_pop_per_reg.png')\n",
    "print(f\"The r-squared is: {rvalue**2}\")\n",
    "plt.show"
   ]
  },
  {
   "cell_type": "code",
   "execution_count": null,
   "id": "7b0927ef",
   "metadata": {},
   "outputs": [],
   "source": []
  },
  {
   "cell_type": "markdown",
   "id": "dd380d44",
   "metadata": {},
   "source": [
    "## Jesse's Stats Analysis Below"
   ]
  },
  {
   "cell_type": "code",
   "execution_count": 75,
   "id": "f26f9955",
   "metadata": {},
   "outputs": [
    {
     "data": {
      "text/plain": [
       "<matplotlib.legend.Legend at 0x7fb0e0248190>"
      ]
     },
     "execution_count": 75,
     "metadata": {},
     "output_type": "execute_result"
    },
    {
     "data": {
      "image/png": "[encoded data removed]",
      "text/plain": [
       "<Figure size 432x288 with 1 Axes>"
      ]
     },
     "metadata": {
      "needs_background": "light"
     },
     "output_type": "display_data"
    }
   ],
   "source": [
    "# categorizing counties as being either Rural or Urban and creating new dataframe \n",
    "# orienting \"population change rate\" instead of raw population\n",
    "\n",
    "# merge_census\n",
    "rural_counties = merge_census.loc[merge_census['2020'] < 50000, :] \n",
    "rural_normalized = rural_counties.pct_change(axis='columns', periods=1)\n",
    "rural_normalized = rural_normalized.drop(columns=['2010'])\n",
    "urban_counties = merge_census.loc[merge_census['2020'] > 50000, :] \n",
    "urban_counties = urban_counties.drop([\"Georgia\"])\n",
    "urban_normalized = urban_counties.pct_change(axis='columns', periods=1)\n",
    "urban_normalized = urban_normalized.drop(columns=['2010'])\n",
    "merge_normalized = merge_census.pct_change(axis='columns', periods=1)\n",
    "merge_normalized = merge_normalized.drop(columns=['2010'])\n",
    "\n",
    "# variables created\n",
    "# urban_counties, rural_counties, rural_normalized, urban_normalized, merge_normalized\n",
    "\n",
    "plt.hist(merge_normalized[\"2021\"].sample(20), 12, density=True, alpha=0.7, label=\"population\")\n",
    "plt.hist(rural_normalized[\"2021\"].sample(20), 12, density=True, alpha=0.7, label=\"rural sample\")\n",
    "plt.axvline(merge_normalized[\"2021\"].mean(), color='k', linestyle='dashed', linewidth=1)\n",
    "plt.axvline(rural_normalized[\"2021\"].mean(), color='k', linestyle='dashed', linewidth=1)\n",
    "plt.legend()  "
   ]
  },
  {
   "cell_type": "code",
   "execution_count": 60,
   "id": "c7ac11f7",
   "metadata": {},
   "outputs": [
    {
     "data": {
      "text/plain": [
       "2011    0.96\n",
       "2012    0.85\n",
       "2013    0.70\n",
       "2014    1.06\n",
       "2015    1.12\n",
       "2016    1.29\n",
       "2017    1.21\n",
       "2018    1.17\n",
       "2019    1.29\n",
       "2020    1.10\n",
       "2021    1.10\n",
       "dtype: float64"
      ]
     },
     "execution_count": 60,
     "metadata": {},
     "output_type": "execute_result"
    }
   ],
   "source": [
    "(urban_normalized.mean() * 100).round(2)"
   ]
  },
  {
   "cell_type": "code",
   "execution_count": 61,
   "id": "93bc0542",
   "metadata": {
    "scrolled": true
   },
   "outputs": [
    {
     "data": {
      "text/plain": [
       "2011   -0.23\n",
       "2012   -0.36\n",
       "2013   -0.39\n",
       "2014   -0.14\n",
       "2015   -0.02\n",
       "2016   -0.04\n",
       "2017    0.26\n",
       "2018    0.32\n",
       "2019    0.41\n",
       "2020   -1.33\n",
       "2021    0.52\n",
       "dtype: float64"
      ]
     },
     "execution_count": 61,
     "metadata": {},
     "output_type": "execute_result"
    }
   ],
   "source": [
    "(rural_normalized.mean() * 100).round(2)"
   ]
  },
  {
   "cell_type": "code",
   "execution_count": 135,
   "id": "cbc5d49e",
   "metadata": {},
   "outputs": [
    {
     "data": {
      "text/plain": [
       "2011    0.09\n",
       "2012   -0.04\n",
       "2013   -0.10\n",
       "2014    0.18\n",
       "2015    0.28\n",
       "2016    0.31\n",
       "2017    0.51\n",
       "2018    0.54\n",
       "2019    0.64\n",
       "2020   -0.70\n",
       "2021    0.67\n",
       "dtype: float64"
      ]
     },
     "execution_count": 135,
     "metadata": {},
     "output_type": "execute_result"
    }
   ],
   "source": [
    "(merge_normalized.mean() * 100).round(2)"
   ]
  },
  {
   "cell_type": "code",
   "execution_count": 62,
   "id": "5cb37975",
   "metadata": {},
   "outputs": [
    {
     "data": {
      "image/png": "[encoded data removed]",
      "text/plain": [
       "<Figure size 432x288 with 1 Axes>"
      ]
     },
     "metadata": {
      "needs_background": "light"
     },
     "output_type": "display_data"
    }
   ],
   "source": [
    "plt.plot(urban_normalized.mean(),label='Urban')\n",
    "plt.plot(rural_normalized.mean(),label='Rural')\n",
    "plt.legend()\n",
    "plt.show()"
   ]
  },
  {
   "cell_type": "code",
   "execution_count": 63,
   "id": "230ff05e",
   "metadata": {},
   "outputs": [
    {
     "data": {
      "image/png": "[encoded data removed]",
      "text/plain": [
       "<Figure size 432x288 with 1 Axes>"
      ]
     },
     "metadata": {
      "needs_background": "light"
     },
     "output_type": "display_data"
    }
   ],
   "source": [
    "plt.plot(urban_normalized.median(),label='Urban')\n",
    "plt.plot(rural_normalized.median(),label='Rural')\n",
    "plt.legend()\n",
    "plt.show()"
   ]
  },
  {
   "cell_type": "code",
   "execution_count": 68,
   "id": "a3a85331",
   "metadata": {},
   "outputs": [
    {
     "data": {
      "text/plain": [
       "County\n",
       "Bartow County      0.014015\n",
       "Pulaski County     0.005475\n",
       "Gordon County      0.009377\n",
       "Pickens County     0.020730\n",
       "Berrien County    -0.000661\n",
       "Decatur County    -0.010226\n",
       "Bulloch County     0.013075\n",
       "Cherokee County    0.024518\n",
       "Glynn County       0.003185\n",
       "Marion County     -0.010638\n",
       "Name: 2021, dtype: float64"
      ]
     },
     "execution_count": 68,
     "metadata": {},
     "output_type": "execute_result"
    }
   ],
   "source": [
    "merge_normalized[\"2021\"].sample(10)"
   ]
  },
  {
   "cell_type": "code",
   "execution_count": 74,
   "id": "d3cfe7e4",
   "metadata": {},
   "outputs": [
    {
     "data": {
      "text/plain": [
       "<matplotlib.legend.Legend at 0x7fb0f03ca5d0>"
      ]
     },
     "execution_count": 74,
     "metadata": {},
     "output_type": "execute_result"
    },
    {
     "data": {
      "image/png": "[encoded data removed]",
      "text/plain": [
       "<Figure size 432x288 with 1 Axes>"
      ]
     },
     "metadata": {
      "needs_background": "light"
     },
     "output_type": "display_data"
    }
   ],
   "source": [
    "plt.hist(merge_normalized[\"2021\"].sample(20), 12, density=True, alpha=0.7, label=\"population\")\n",
    "plt.hist(rural_normalized[\"2021\"].sample(20), 12, density=True, alpha=0.7, label=\"rural sample\")\n",
    "plt.axvline(merge_normalized[\"2021\"].mean(), color='k', linestyle='dashed', linewidth=1)\n",
    "plt.axvline(rural_normalized[\"2021\"].mean(), color='k', linestyle='dashed', linewidth=1)\n",
    "plt.legend()  "
   ]
  },
  {
   "cell_type": "code",
   "execution_count": 131,
   "id": "49fcad5d",
   "metadata": {},
   "outputs": [],
   "source": [
    "rural = rural_normalized[\"2021\"].sample(10)\n",
    "rural = rural.reset_index()\n",
    "rural = rural[\"2021\"]\n",
    "# rural\n",
    "\n",
    "observed = merge_normalized[\"2021\"].sample(10)\n",
    "observed = observed.reset_index()\n",
    "observed = observed[\"2021\"]\n",
    "observed\n",
    "# observed = merge_normalized[\"2021\"].sample(10).to_list()\n",
    "# rural.to_list()\n",
    "df=pd.concat([rural,observed],axis=1)\n",
    "df.columns= ['rural', 'all']\n",
    "\n"
   ]
  },
  {
   "cell_type": "code",
   "execution_count": 127,
   "id": "e645d398",
   "metadata": {},
   "outputs": [],
   "source": [
    "gross_mean = merge_normalized['2021'].mean()"
   ]
  },
  {
   "cell_type": "code",
   "execution_count": 134,
   "id": "12bc5077",
   "metadata": {},
   "outputs": [
    {
     "data": {
      "text/plain": [
       "Ttest_1sampResult(statistic=-0.41347072821689096, pvalue=0.6889399579094846)"
      ]
     },
     "execution_count": 134,
     "metadata": {},
     "output_type": "execute_result"
    }
   ],
   "source": [
    "stats.ttest_1samp(df['rural'], gross_mean)"
   ]
  },
  {
   "cell_type": "code",
   "execution_count": 133,
   "id": "4052eb43",
   "metadata": {},
   "outputs": [
    {
     "data": {
      "text/plain": [
       "0   -0.008133\n",
       "1    0.007875\n",
       "2   -0.045771\n",
       "3    0.027284\n",
       "4   -0.004500\n",
       "5    0.008722\n",
       "6   -0.010638\n",
       "7    0.022851\n",
       "8    0.016578\n",
       "9    0.023845\n",
       "Name: rural, dtype: float64"
      ]
     },
     "execution_count": 133,
     "metadata": {},
     "output_type": "execute_result"
    }
   ],
   "source": [
    "df['rural']"
   ]
  },
  {
   "cell_type": "code",
   "execution_count": null,
   "id": "a5013d0e",
   "metadata": {},
   "outputs": [],
   "source": [
    "# With a p-value of 0.05, the confidence level is 1.00-0.05 = 0.95.\n",
    "critical_value = stats.chi2.ppf(q = 0.95, df = 9)\n",
    "critical_value"
   ]
  },
  {
   "cell_type": "code",
   "execution_count": null,
   "id": "9c2ffd4e",
   "metadata": {},
   "outputs": [],
   "source": [
    "#playing with chisquare\n",
    "ruralNormalized = df['rural']/df['rural'].sum() \n",
    "allNormalized = df['all']/df['all'].sum() \n",
    "stats.chisquare(ruralNormalized, allNormalized)"
   ]
  }
 ],
 "metadata": {
  "kernelspec": {
   "display_name": "Python 3 (ipykernel)",
   "language": "python",
   "name": "python3"
  },
  "language_info": {
   "codemirror_mode": {
    "name": "ipython",
    "version": 3
   },
   "file_extension": ".py",
   "mimetype": "text/x-python",
   "name": "python",
   "nbconvert_exporter": "python",
   "pygments_lexer": "ipython3",
   "version": "3.7.11"
  }
 },
 "nbformat": 4,
 "nbformat_minor": 5
}
